{
 "cells": [
  {
   "cell_type": "markdown",
   "metadata": {},
   "source": [
    "### Functions "
   ]
  },
  {
   "cell_type": "code",
   "execution_count": 1,
   "metadata": {},
   "outputs": [
    {
     "name": "stdout",
     "output_type": "stream",
     "text": [
      "300\n"
     ]
    }
   ],
   "source": [
    "#Parameterless Function\n",
    "\n",
    "def func():                     #defining a function\n",
    "    num1 = 100                  \n",
    "    num2 = 200                  #(num1 & num2 are local variables)\n",
    "    print(num1 + num2)\n",
    "func()                          #calling a function\n",
    "\n",
    "#Local varibles can't be used out of the scope of function"
   ]
  },
  {
   "cell_type": "code",
   "execution_count": 2,
   "metadata": {},
   "outputs": [
    {
     "name": "stdout",
     "output_type": "stream",
     "text": [
      "50\n",
      "10\n"
     ]
    }
   ],
   "source": [
    "num1 = 10           #(num1) is global variable\n",
    "def func1():\n",
    "    print(num1 + 40)  \n",
    "func1()\n",
    "print(num1)         #(num1 is avaialbe out of scope)\n",
    "\n",
    "#Global varibles can be used in the function & out of the scope of function"
   ]
  },
  {
   "cell_type": "code",
   "execution_count": 3,
   "metadata": {},
   "outputs": [
    {
     "name": "stdout",
     "output_type": "stream",
     "text": [
      "10\n"
     ]
    }
   ],
   "source": [
    "#Parameterised Function with Positional Arguments\n",
    "\n",
    "def func2(num1,num2):           #Parameters: Here data is caught by varibales in parameters\n",
    "    print(num1 - num2)\n",
    "func2(20,10)                    #Arguments: Here data is given to arguments for parameters"
   ]
  },
  {
   "cell_type": "code",
   "execution_count": 4,
   "metadata": {},
   "outputs": [
    {
     "name": "stdout",
     "output_type": "stream",
     "text": [
      "-50\n"
     ]
    }
   ],
   "source": [
    "#The values of function are in our control now (passing desired data everytime)\n",
    "\n",
    "func2(50,100)"
   ]
  },
  {
   "cell_type": "code",
   "execution_count": 5,
   "metadata": {},
   "outputs": [
    {
     "name": "stdout",
     "output_type": "stream",
     "text": [
      "Ali Mavia\n"
     ]
    }
   ],
   "source": [
    "#Positional Arguments (2)\n",
    "\n",
    "def fullname(fname,lname):\n",
    "    print(fname + \" \" + lname)\n",
    "fullname(\"Ali\",\"Mavia\")           #Position matters in positional arguments"
   ]
  },
  {
   "cell_type": "code",
   "execution_count": 6,
   "metadata": {},
   "outputs": [
    {
     "name": "stdout",
     "output_type": "stream",
     "text": [
      "Mavia Ali\n"
     ]
    }
   ],
   "source": [
    "#Keyword Arguments\n",
    "\n",
    "def fullname(fname,lname):\n",
    "    print(fname + \" \" + lname)\n",
    "fullname(lname=\"Ali\",fname=\"Mavia\")        #Keyword Arguments decide/fix the value for parameters"
   ]
  },
  {
   "cell_type": "code",
   "execution_count": 7,
   "metadata": {},
   "outputs": [
    {
     "name": "stdout",
     "output_type": "stream",
     "text": [
      "We're learning Python Programming\n"
     ]
    }
   ],
   "source": [
    "#Keyword Arguments (2)\n",
    "\n",
    "def KA(three,two,four,one):\n",
    "    course = one + \" \" + two + \" \" + three + \" \" + four \n",
    "    print(course)\n",
    "KA(one=\"We're\",four=\"Programming\",two=\"learning\",three=\"Python\")"
   ]
  },
  {
   "cell_type": "code",
   "execution_count": 8,
   "metadata": {},
   "outputs": [
    {
     "name": "stdout",
     "output_type": "stream",
     "text": [
      "Python Programming We're learning\n"
     ]
    }
   ],
   "source": [
    "#By Positional Arguments\n",
    "\n",
    "KA(\"We're\",\"Programming\",\"learning\",\"Python\")"
   ]
  },
  {
   "cell_type": "code",
   "execution_count": 9,
   "metadata": {},
   "outputs": [
    {
     "name": "stdout",
     "output_type": "stream",
     "text": [
      "Stay Home Stay Safe\n"
     ]
    }
   ],
   "source": [
    "#Both positional & Keyword Arguments in same function\n",
    "\n",
    "def func3(one,two,three,four):\n",
    "    guide = one + \" \" + two + \" \" + three + \" \" + four\n",
    "    print(guide)\n",
    "func3(\"Stay\",\"Home\",\"Stay\",four=\"Safe\")         #Keyword arguments should always be at last"
   ]
  },
  {
   "cell_type": "code",
   "execution_count": 9,
   "metadata": {},
   "outputs": [
    {
     "name": "stdout",
     "output_type": "stream",
     "text": [
      "Mavia - Ali\n"
     ]
    }
   ],
   "source": [
    "#Default Parameters\n",
    "\n",
    "def DP(first=\"-\",middle=\"-\",last=\"-\"):                 #default paremeters should always be at last \n",
    "    name = first + \" \" + middle + \" \" + last\n",
    "    print(name)\n",
    "DP(\"Mavia\",last=\"Ali\")     \n",
    "\n",
    "#If all arguments are not passed in during calling a function then default parameter value will be used by program."
   ]
  },
  {
   "cell_type": "code",
   "execution_count": 11,
   "metadata": {},
   "outputs": [
    {
     "name": "stdout",
     "output_type": "stream",
     "text": [
      "Mavia - -\n"
     ]
    }
   ],
   "source": [
    "#Here, user has only his first_name therefore, for middle & last name default parameters value (-) are used by program\n",
    "\n",
    "DP(first=\"Mavia\")"
   ]
  },
  {
   "cell_type": "code",
   "execution_count": 13,
   "metadata": {},
   "outputs": [
    {
     "name": "stdout",
     "output_type": "stream",
     "text": [
      "30\n",
      "50\n",
      "40\n",
      "20\n"
     ]
    }
   ],
   "source": [
    "#Default Parameters (2)\n",
    "\n",
    "def func4(num1=10,num2=20):\n",
    "    print(num1 + num2)\n",
    "    \n",
    "func4()                 #Arguments are not given here so code will use it's default parameters values\n",
    "func4(25,25)            #All arguments are given here so code will not use it's default parameters values\n",
    "func4(num1=20)          #Argument (num1) is given here so code will use it's default parameter value only for(num2)\n",
    "func4(num2=10)          #Argument (num2) is given here so code will use it's default parameter value only for(num1)"
   ]
  },
  {
   "cell_type": "code",
   "execution_count": 13,
   "metadata": {},
   "outputs": [
    {
     "name": "stdout",
     "output_type": "stream",
     "text": [
      "('Mavia', 19, 'AI', 'PIAIC', 'Python', 'HTML', 'CSS') \n",
      "\n",
      "Mavia\n",
      "19\n",
      "AI\n",
      "PIAIC\n",
      "Python\n",
      "HTML\n",
      "CSS\n"
     ]
    }
   ],
   "source": [
    "#Arbitary/Unknown number of Arguments\n",
    "\n",
    "def UA(*param):                  #(*) is used to catch more than 1 parameters and should be always at last\n",
    "    print(param,\"\\n\")\n",
    "    #OR print using 'for' loop\n",
    "    for star in param:\n",
    "        print(star)\n",
    "        \n",
    "UA(\"Mavia\",19,\"AI\",\"PIAIC\",\"Python\",\"HTML\",\"CSS\")"
   ]
  },
  {
   "cell_type": "code",
   "execution_count": 14,
   "metadata": {},
   "outputs": [
    {
     "name": "stdout",
     "output_type": "stream",
     "text": [
      "100\n",
      "200\n",
      "300\n",
      "400\n",
      "500\n",
      "600\n",
      "700\n",
      "800\n",
      "900\n",
      "1000\n"
     ]
    }
   ],
   "source": [
    "#Arbitary/Unknown number of Arguments (2)\n",
    "\n",
    "def func5(first_num,second_num,*more_nums):\n",
    "    print(first_num) \n",
    "    print(second_num)\n",
    "    for values in more_nums:\n",
    "        print(values)\n",
    "    \n",
    "func5(100,200,300,400,500,600,700,800,900,1000)              \n",
    "\n",
    "#(100 & 200) will go in the (first_num & second_num) respectively while all other arguments will hold by (*more_nums)"
   ]
  },
  {
   "cell_type": "code",
   "execution_count": 15,
   "metadata": {},
   "outputs": [
    {
     "name": "stdout",
     "output_type": "stream",
     "text": [
      "-:CHAMPIONS TROPHY 2017:-\n",
      "Winner: Pakistan\n",
      "Score: 338\n",
      "Extras: 25\n",
      "Man_of_the_Match: Fakhar Zaman\n",
      "Umpire: Rod Tucker\n",
      "Venue: Kennington Oval, London\n"
     ]
    }
   ],
   "source": [
    "#Arbitary/Unknown number of Arguments with 'keys and values'\n",
    "\n",
    "def ct17(winner, score, **other_info):             #Use double(**) to catch both 'keys and values' \n",
    "    print(\"-:CHAMPIONS TROPHY 2017:-\")\n",
    "    print(\"Winner: \"+ winner + \"\\n\" + \"Score: \"+ score)\n",
    "    for key,value in other_info.items():\n",
    "        print(key + \": \" + value)\n",
    "        \n",
    "ct17(\"Pakistan\",\"338\",Extras=\"25\",Man_of_the_Match=\"Fakhar Zaman\",Umpire=\"Rod Tucker\",Venue=\"Kennington Oval, London\")"
   ]
  },
  {
   "cell_type": "code",
   "execution_count": 16,
   "metadata": {},
   "outputs": [
    {
     "name": "stdout",
     "output_type": "stream",
     "text": [
      "30\n"
     ]
    }
   ],
   "source": [
    "#Returning a value from function\n",
    "\n",
    "def RF(num1,num2):\n",
    "    ans = num1 + num2\n",
    "    return ans\n",
    "\n",
    "r = RF(10,20)\n",
    "print(r)"
   ]
  },
  {
   "cell_type": "code",
   "execution_count": 17,
   "metadata": {},
   "outputs": [
    {
     "name": "stdout",
     "output_type": "stream",
     "text": [
      "20\n",
      "60\n",
      "6.0\n"
     ]
    }
   ],
   "source": [
    "#Now the value of fucntion is stored in a variable so we can re-use it for our own purpose\n",
    "\n",
    "r1 = r - 10\n",
    "r2 = r * 2\n",
    "r3 = r / 5\n",
    "print(r1)\n",
    "print(r2)\n",
    "print(r3)"
   ]
  },
  {
   "cell_type": "code",
   "execution_count": 18,
   "metadata": {},
   "outputs": [
    {
     "name": "stdout",
     "output_type": "stream",
     "text": [
      "Name: Mavia Ali\n",
      "Course: Artificial Intelligence\n",
      "\n",
      "Mavia Ali is enrolled in Artificial Intelligence Program\n"
     ]
    }
   ],
   "source": [
    "#Returning a value from function (2)\n",
    "\n",
    "def func6():\n",
    "    user = input(\"Name: \")\n",
    "    info = user + \" is enrolled in \"\n",
    "    return info\n",
    "\n",
    "def func7():\n",
    "    user = input(\"Course: \")\n",
    "    return user + \" Program\"\n",
    "\n",
    "r1 = func6()\n",
    "r2 = func7()\n",
    "r = \"\\n\" + r1 + r2\n",
    "print(r)"
   ]
  },
  {
   "cell_type": "code",
   "execution_count": 21,
   "metadata": {},
   "outputs": [
    {
     "name": "stdout",
     "output_type": "stream",
     "text": [
      "100\n"
     ]
    }
   ],
   "source": [
    "#Using functions as variables\n",
    "\n",
    "def add(a,b):\n",
    "    return a + b\n",
    "\n",
    "def sub(c,d):\n",
    "    return c - d\n",
    "\n",
    "result = add(10,10) * sub(10,5)         #Here functions are used as variables\n",
    "print(result)"
   ]
  },
  {
   "cell_type": "code",
   "execution_count": 23,
   "metadata": {},
   "outputs": [
    {
     "name": "stdout",
     "output_type": "stream",
     "text": [
      "Your Gross Salary is: 60000\n"
     ]
    }
   ],
   "source": [
    "#Functions within a functions\n",
    "\n",
    "def CommmisionCalc(sales):\n",
    "    if sales >= 100:\n",
    "        return sales * 100\n",
    "    elif sales >= 50:\n",
    "        return sales * 50\n",
    "    elif sales >= 20:\n",
    "        return sales * 20\n",
    "    else:\n",
    "        return 0\n",
    "    \n",
    "def SalaryCalc(basic,sales):\n",
    "    gross_salary = basic + CommmisionCalc(sales)\n",
    "    print(\"Your Gross Salary is:\",gross_salary)\n",
    "    \n",
    "SalaryCalc(50000,100)"
   ]
  },
  {
   "cell_type": "markdown",
   "metadata": {},
   "source": [
    "### While Loop"
   ]
  },
  {
   "cell_type": "code",
   "execution_count": 3,
   "metadata": {},
   "outputs": [
    {
     "name": "stdout",
     "output_type": "stream",
     "text": [
      "0 Hello, While\n",
      "1 Hello, While\n",
      "2 Hello, While\n",
      "3 Hello, While\n",
      "4 Hello, While\n",
      "5 Hello, While\n"
     ]
    }
   ],
   "source": [
    "a = 0\n",
    "while a <= 5:\n",
    "    print(a,\"Hello, While\")\n",
    "    a += 1"
   ]
  },
  {
   "cell_type": "code",
   "execution_count": 2,
   "metadata": {},
   "outputs": [
    {
     "name": "stdout",
     "output_type": "stream",
     "text": [
      "Favorite Fruit: Mango\n",
      "Favorite Fruit: Apple\n",
      "Favorite Fruit: Banana\n",
      "Favorite Fruit: Grapes\n",
      "Favorite Fruit: Orange\n",
      "Favorite Fruit: Java Plum\n",
      "Favorite Fruit: Phalsa\n",
      "Favorite Fruit: Starwberry\n",
      "Favorite Fruit: Cherry\n",
      "Favorite Fruit: Pear\n"
     ]
    }
   ],
   "source": [
    "fruit = 1\n",
    "while fruit <= 10:\n",
    "    user = input(\"Favorite Fruit: \")\n",
    "    fruit += 1"
   ]
  },
  {
   "cell_type": "code",
   "execution_count": 24,
   "metadata": {},
   "outputs": [
    {
     "name": "stdout",
     "output_type": "stream",
     "text": [
      "-: ENTER YOUR FAVORITE FRUITS or (press 'q' to exit) :-\n",
      "\n",
      "Mango\n",
      "Apple\n",
      "Strawberry\n",
      "q\n",
      "Favorite Fruits: \n",
      " ['Mango', 'Apple', 'Strawberry']\n"
     ]
    }
   ],
   "source": [
    "#Setting a flag (user can quit the loop anytime)\n",
    "\n",
    "print(\"-: ENTER YOUR FAVORITE FRUITS or (press 'q' to exit) :-\\n\")\n",
    "flag = True\n",
    "fruits = []\n",
    "\n",
    "while flag:\n",
    "    user = input()\n",
    "    if user == 'q':\n",
    "        flag = False\n",
    "    else:\n",
    "        fruits.append(user)\n",
    "        \n",
    "print(\"Favorite Fruits: \\n\",fruits)"
   ]
  },
  {
   "cell_type": "markdown",
   "metadata": {},
   "source": [
    "## Object  Oriented Programming ( OOP )"
   ]
  },
  {
   "cell_type": "markdown",
   "metadata": {},
   "source": [
    "### Classes"
   ]
  },
  {
   "cell_type": "code",
   "execution_count": 28,
   "metadata": {},
   "outputs": [
    {
     "name": "stdout",
     "output_type": "stream",
     "text": [
      "Attributes of Car1:\n",
      "Audi\n",
      "RX8\n",
      "Red\n",
      "2006\n",
      "\n",
      "Behaviours of Both Cars:\n",
      "RX8 has 540hp engine\n",
      "Audi cars has speed of 304.77 miles/hour maximum\n",
      "The Audi RX8 has won two World Car of the Year Awards.\n",
      "\n",
      "Attributes of Car2:\n",
      "BMW\n",
      "i3\n",
      "White\n",
      "2016\n",
      "\n",
      "Attributes of Car3:\n",
      "Buggati\n",
      "Chiron\n",
      "Black\n",
      "2020\n"
     ]
    }
   ],
   "source": [
    "class Car():                                        # Defining a class (Car)\n",
    "    \n",
    "    \n",
    "    # Attributes of class (Car)\n",
    "    \n",
    "    def __init__(self,make,model,color,year):       \n",
    "        self.make = make\n",
    "        self.model = model\n",
    "        self.color = color\n",
    "        self.year = year\n",
    "        self.battery = \"200amp\"                     # Default Attribute\n",
    "     \n",
    "    \n",
    "    # Behaviours of class (Car)  OR\n",
    "    #Functions for getting attribute value\n",
    "    \n",
    "    def CarDescription(self):                       \n",
    "        print(\"The Audi RX8 has won two World Car of the Year Awards.\")\n",
    "        \n",
    "    def speed(self):\n",
    "        print(self.make,\"cars has speed of 304.77 miles/hour maximum\")\n",
    "\n",
    "    def engine(self):\n",
    "        print(self.model,\"has 540hp engine\")\n",
    "        \n",
    "        \n",
    "    # Making functions for changing attribute value (Used in below 2nd cell)\n",
    "        \n",
    "    def BatterySize(self,NewSize):\n",
    "        self.battery = NewSize\n",
    "\n",
    "    #Function for getting value of changed attribute    \n",
    "        \n",
    "    def GetBatterySize(self):\n",
    "        print(\"The capacity of your car battery is\",self.battery)\n",
    "\n",
    "    \n",
    "# Objects/Instances of class (Car)    \n",
    "\n",
    "car1 = Car(\"Audi\",\"RX8\",\"Red\",2006)                 \n",
    "car2 = Car(\"BMW\",\"i3\",\"White\",2016)\n",
    "\n",
    "\n",
    "# Accessing attributes & behaviours of class (Car)\n",
    "\n",
    "print(\"Attributes of Car1:\")                         \n",
    "print(car1.make)\n",
    "print(car1.model)\n",
    "print(car1.color)\n",
    "print(car1.year)\n",
    "\n",
    "print(\"\\nBehaviours of Both Cars:\")\n",
    "car1.engine()\n",
    "car1.speed()\n",
    "car1.CarDescription()\n",
    "\n",
    "print(\"\\nAttributes of Car2:\")\n",
    "print(car2.make)\n",
    "print(car2.model)\n",
    "print(car2.color)\n",
    "print(car2.year)"
   ]
  },
  {
   "cell_type": "markdown",
   "metadata": {},
   "source": [
    "Changing Attributes value in two ways:-\n",
    "(1) Direct Changing (2) Via Function"
   ]
  },
  {
   "cell_type": "code",
   "execution_count": 86,
   "metadata": {},
   "outputs": [
    {
     "name": "stdout",
     "output_type": "stream",
     "text": [
      "Ferrari\n",
      "Ferrari cars has speed of 304.77 miles/hour maximum\n"
     ]
    }
   ],
   "source": [
    "#Direct Changing an Attribute Value (Non-Conventional way)\n",
    "\n",
    "car1.make = \"Ferrari\"\n",
    "print(car1.make)\n",
    "car1.speed()                                # Attribute is changed everywehre now"
   ]
  },
  {
   "cell_type": "code",
   "execution_count": 87,
   "metadata": {},
   "outputs": [
    {
     "name": "stdout",
     "output_type": "stream",
     "text": [
      "The capacity of your car battery is 200amp\n",
      "The capacity of your car battery is 500amp\n"
     ]
    }
   ],
   "source": [
    "#Changing Attribute Value via function (Convetional way)\n",
    "\n",
    "car1.GetBatterySize()                           # Accessing 'car1' battery size\n",
    "car2.BatterySize(\"500amp\")                      # Changing 'car2' battery size\n",
    "car2.GetBatterySize()                           # Accessing 'car2' battery size"
   ]
  },
  {
   "cell_type": "markdown",
   "metadata": {},
   "source": [
    "### DATA FILES "
   ]
  },
  {
   "cell_type": "code",
   "execution_count": 16,
   "metadata": {},
   "outputs": [],
   "source": [
    "#Writing data in file\n",
    "\n",
    "with open(\"Text_File1.txt\",\"w\") as file:\n",
    "    file.write(\"Hello, World!\\nThis is Mavia Ali\")"
   ]
  },
  {
   "cell_type": "code",
   "execution_count": 18,
   "metadata": {},
   "outputs": [
    {
     "name": "stdout",
     "output_type": "stream",
     "text": [
      "Hello, World!\n",
      "This is Mavia Ali\n"
     ]
    }
   ],
   "source": [
    "#Reading data from file\n",
    "\n",
    "with open(\"Text_File1.txt\",\"r\") as file:\n",
    "    read = file.read()\n",
    "print(read)"
   ]
  },
  {
   "cell_type": "code",
   "execution_count": 19,
   "metadata": {},
   "outputs": [],
   "source": [
    "#Appending data in file\n",
    "\n",
    "with open(\"Text_File1.txt\",\"a\") as file:\n",
    "    file.write(\"\\nI am Learning Pyhton Programming (AI)\")\n",
    "    \n",
    "#If we open & write in the same file again then previous data will be override, while append will add the data."
   ]
  },
  {
   "cell_type": "code",
   "execution_count": 22,
   "metadata": {},
   "outputs": [
    {
     "name": "stdout",
     "output_type": "stream",
     "text": [
      "Hello, World!\n",
      "This is Mavia Ali\n",
      "I am Learning Pyhton Programming (AI)\n"
     ]
    }
   ],
   "source": [
    "#Reading data from file after appending\n",
    "\n",
    "with open(\"Text_File1.txt\",\"r\") as file:\n",
    "    read = file.read()\n",
    "print(read)"
   ]
  },
  {
   "cell_type": "code",
   "execution_count": 36,
   "metadata": {},
   "outputs": [
    {
     "name": "stdout",
     "output_type": "stream",
     "text": [
      "(w+ or r+) mode can both read and write in the file\n",
      "This is done using (w+)\n"
     ]
    }
   ],
   "source": [
    "#Both reading and writing in a file at same time using (w+)\n",
    "\n",
    "with open(\"Text_File2.txt\",\"w+\") as file2:\n",
    "    file2.write(\"(w+ or r+) mode can both read and write in the file\")\n",
    "    file2.write(\"\\nThis is done using (w+)\")\n",
    "    file2.seek(0)               #Using seek for begining the reading from start of line after applying write func\n",
    "    data = file2.read()\n",
    "print(data)"
   ]
  },
  {
   "cell_type": "code",
   "execution_count": 37,
   "metadata": {},
   "outputs": [
    {
     "name": "stdout",
     "output_type": "stream",
     "text": [
      "(w+ or r+) mode can both read and write in the file\n",
      "This is done using (r+)\n"
     ]
    }
   ],
   "source": [
    "#Both reading and writing in a file at same time using (r+)\n",
    "\n",
    "with open(\"Text_File2.txt\",\"r+\") as file2:\n",
    "    file2.write(\"(w+ or r+) mode can both read and write in the file\")\n",
    "    file2.write(\"\\nThis is done using (r+)\")\n",
    "    file2.seek(0)               #Using seek for begining the reading from start of line after applying write func\n",
    "    data = file2.read()\n",
    "print(data)"
   ]
  },
  {
   "cell_type": "markdown",
   "metadata": {},
   "source": [
    "### CSV Files ( Comma Seperated Value )"
   ]
  },
  {
   "cell_type": "code",
   "execution_count": 2,
   "metadata": {},
   "outputs": [
    {
     "name": "stdout",
     "output_type": "stream",
     "text": [
      "['FirstName', 'LastName', 'Roll#']\n",
      "['Mavia', 'Ali', '12']\n",
      "['Ziyad', 'Baig', '14']\n",
      "['Muhammad', 'Aniq', '18']\n",
      "['Muahmmad', 'Salman', '40']\n",
      "['Shaheryar', 'Ansari', '43']\n"
     ]
    }
   ],
   "source": [
    "#Reading data from CSV File\n",
    "\n",
    "import csv\n",
    "with open(\"File1.csv\",\"r\") as file:\n",
    "    data = csv.reader(file)\n",
    "    for content in data:\n",
    "        print(content)"
   ]
  },
  {
   "cell_type": "code",
   "execution_count": 3,
   "metadata": {},
   "outputs": [],
   "source": [
    "#Writing data in CSV File\n",
    "\n",
    "with open(\"File2.csv\",\"w\",newline=\"\") as file:\n",
    "    data = csv.writer(file)\n",
    "    data.writerow([\"Event\",\"Year\",\"Winner\"])\n",
    "    data.writerow([\"CT\",\"2017\",\"Pakistan\"])\n",
    "    data.writerow([\"AC\",\"2018\",\"India\"])\n",
    "    data.writerow([\"WC\",\"2019\",\"NewZealand\"])"
   ]
  },
  {
   "cell_type": "code",
   "execution_count": 4,
   "metadata": {},
   "outputs": [],
   "source": [
    "#Appending data in CSV File\n",
    "\n",
    "with open(\"File2.csv\",\"a\",newline=\"\") as file:\n",
    "    data = csv.writer(file)\n",
    "    data.writerow([\"PSL\",\"2020\",\"Karachi Kings\"])\n",
    "    \n",
    "#If we open & write in the same file again then previous data will be override, while append will add the data.    "
   ]
  },
  {
   "cell_type": "code",
   "execution_count": 5,
   "metadata": {},
   "outputs": [
    {
     "name": "stdout",
     "output_type": "stream",
     "text": [
      "['Event', 'Year', 'Winner']\n",
      "['CT', '2017', 'Pakistan']\n",
      "['AC', '2018', 'India']\n",
      "['WC', '2019', 'NewZealand']\n",
      "['PSL', '2020', 'Karachi Kings']\n"
     ]
    }
   ],
   "source": [
    "#Reading data from CSV File\n",
    "\n",
    "with open(\"File2.csv\",\"r\") as file:\n",
    "    data = csv.reader(file)\n",
    "    for content in data:\n",
    "        print(content)"
   ]
  },
  {
   "cell_type": "markdown",
   "metadata": {},
   "source": [
    "### JSON File ( JavaScript Object Notation )"
   ]
  },
  {
   "cell_type": "markdown",
   "metadata": {},
   "source": [
    "JSON file is used to write list and dictionaries in it "
   ]
  },
  {
   "cell_type": "code",
   "execution_count": 62,
   "metadata": {},
   "outputs": [],
   "source": [
    "#Writing data in JSON file\n",
    "\n",
    "import json\n",
    "with open(\"File1.json\",\"w\") as file:\n",
    "    json.dump([\"Mavia\",\"Aniq\",\"Sherry\",\"Salman\",\"Ziyad\"],file)"
   ]
  },
  {
   "cell_type": "code",
   "execution_count": 63,
   "metadata": {},
   "outputs": [
    {
     "name": "stdout",
     "output_type": "stream",
     "text": [
      "['Mavia', 'Aniq', 'Sherry', 'Salman', 'Ziyad']\n"
     ]
    }
   ],
   "source": [
    "#Reading data from JSON file\n",
    "\n",
    "with open(\"File1.json\",\"r\") as file:\n",
    "    data = json.load(file)\n",
    "print(data)"
   ]
  },
  {
   "cell_type": "code",
   "execution_count": 64,
   "metadata": {},
   "outputs": [],
   "source": [
    "#Appending data in JSON file\n",
    "\n",
    "with open(\"File1.json\",\"a\") as file:\n",
    "    json.dump([\"Ali\",\"Nasir\",\"Qasim\",\"Zakir\",\"Baig\"],file)\n",
    "    \n",
    "#If we open & write in the same file again then previous data will be override, while append will add the data.        "
   ]
  },
  {
   "cell_type": "code",
   "execution_count": 44,
   "metadata": {},
   "outputs": [],
   "source": [
    "#Writing data in dictionary form in JSON file\n",
    "\n",
    "BioData = {\n",
    "    \"name\":\"Mavia Ali\",\n",
    "    \"fname\":\"Mohammad Ali\",\n",
    "    \"age\":\"19\",\n",
    "    \"address\":\"Burns Road, Karachi\"\n",
    "}\n",
    "\n",
    "with open(\"File2.json\",\"w\") as file:\n",
    "    json.dump(BioData,file)"
   ]
  },
  {
   "cell_type": "code",
   "execution_count": 65,
   "metadata": {},
   "outputs": [
    {
     "name": "stdout",
     "output_type": "stream",
     "text": [
      "{'name': 'Mavia Ali', 'fname': 'Mohammad Ali', 'age': '19', 'address': 'Burns Road, Karachi'}\n"
     ]
    }
   ],
   "source": [
    "#Reading dictionary from JSON file\n",
    "\n",
    "with open(\"File2.json\",\"r\") as file:\n",
    "    data = json.load(file)\n",
    "print(data)"
   ]
  },
  {
   "cell_type": "markdown",
   "metadata": {},
   "source": [
    "### MODULES"
   ]
  },
  {
   "cell_type": "markdown",
   "metadata": {},
   "source": [
    "Importing code from Text File to jupyter notebook to use here"
   ]
  },
  {
   "cell_type": "code",
   "execution_count": 36,
   "metadata": {},
   "outputs": [],
   "source": [
    "# %load Maths.py\n",
    "#All these functions are imported from text file Maths.py to (AI) Lesson 3.\n",
    "\n",
    "def add(a,b):\n",
    "    return a + b\n",
    "\n",
    "def sub(a,b):\n",
    "    return a - b\n",
    "\n",
    "def mult(a,b):\n",
    "    return a * b\n",
    "\n",
    "def div(a,b):\n",
    "    return a / b"
   ]
  },
  {
   "cell_type": "code",
   "execution_count": 37,
   "metadata": {},
   "outputs": [
    {
     "name": "stdout",
     "output_type": "stream",
     "text": [
      "20\n",
      "30\n",
      "40\n",
      "50.0\n"
     ]
    }
   ],
   "source": [
    "import Maths as m\n",
    "print(m.add(10,10))\n",
    "print(m.sub(50,20))\n",
    "print(m.mult(5,8))\n",
    "print(m.div(100,2))"
   ]
  },
  {
   "cell_type": "markdown",
   "metadata": {},
   "source": [
    "### EXCEPTIONS"
   ]
  },
  {
   "cell_type": "code",
   "execution_count": 85,
   "metadata": {},
   "outputs": [
    {
     "name": "stdout",
     "output_type": "stream",
     "text": [
      "Enter num1: 10\n",
      "Enter num2: 0\n",
      "Can't Divide by zero\n"
     ]
    }
   ],
   "source": [
    "a = int(input('Enter num1: '))\n",
    "b = int(input('Enter num2: '))\n",
    "\n",
    "try:\n",
    "    c = a / b\n",
    "except ZeroDivisionError:\n",
    "        print(\"Can't Divide by zero\")\n",
    "else:\n",
    "    print(c)"
   ]
  },
  {
   "cell_type": "code",
   "execution_count": 93,
   "metadata": {},
   "outputs": [
    {
     "name": "stdout",
     "output_type": "stream",
     "text": [
      "Plz give the correct file name\n"
     ]
    }
   ],
   "source": [
    "try:\n",
    "    with open(\"NoFile.txt\") as file:\n",
    "        data = file.read()\n",
    "except FileNotFoundError:\n",
    "    print(\"Plz give the correct file name\")\n",
    "else:\n",
    "    print(data)"
   ]
  },
  {
   "cell_type": "markdown",
   "metadata": {},
   "source": [
    "# PYTHON (AI) LESSON_3 COMPLETED"
   ]
  }
 ],
 "metadata": {
  "kernelspec": {
   "display_name": "Python 3",
   "language": "python",
   "name": "python3"
  },
  "language_info": {
   "codemirror_mode": {
    "name": "ipython",
    "version": 3
   },
   "file_extension": ".py",
   "mimetype": "text/x-python",
   "name": "python",
   "nbconvert_exporter": "python",
   "pygments_lexer": "ipython3",
   "version": "3.7.6"
  }
 },
 "nbformat": 4,
 "nbformat_minor": 4
}
