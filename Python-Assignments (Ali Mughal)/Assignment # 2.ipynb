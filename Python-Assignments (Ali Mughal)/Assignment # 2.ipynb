{
 "cells": [
  {
   "cell_type": "code",
   "execution_count": 1,
   "metadata": {},
   "outputs": [
    {
     "name": "stdout",
     "output_type": "stream",
     "text": [
      "Enter marks of 1st suject: 86.5\n",
      "Enter marks of 2nd suject: 79\n",
      "Enter marks of 3rd suject: 88\n",
      "Enter marks of 4th suject: 84.5\n",
      "Enter marks of 5th suject: 81\n",
      "\n",
      "Percentage:  83.8\n",
      "Grade: A+\n"
     ]
    }
   ],
   "source": [
    "sub1 = float(input(\"Enter marks of 1st suject: \"))\n",
    "sub2 = float(input(\"Enter marks of 2nd suject: \"))\n",
    "sub3 = float(input(\"Enter marks of 3rd suject: \"))\n",
    "sub4 = float(input(\"Enter marks of 4th suject: \"))\n",
    "sub5 = float(input(\"Enter marks of 5th suject: \"))\n",
    "total_marks = sub1 + sub2 + sub3  + sub4 + sub5\n",
    "percentage = (total_marks/500)*100\n",
    "print(\"\\nPercentage: \",percentage)\n",
    "if percentage >= 80 :\n",
    "    print(\"Grade: A+\")\n",
    "elif percentage >= 70 and percentage < 80 :\n",
    "    print(\"Grade: A\")\n",
    "elif percentage >= 60 and percentage < 70 :\n",
    "    print(\"Grade: B\")\n",
    "elif percentage >= 50 and percentage < 60 :\n",
    "    print(\"Grade: C\")\n",
    "elif percentage >=40 and perccentage < 50 :\n",
    "    print(\"Grade: D\")\n",
    "else :\n",
    "    print(\"Fail\")"
   ]
  },
  {
   "cell_type": "code",
   "execution_count": 2,
   "metadata": {},
   "outputs": [
    {
     "name": "stdout",
     "output_type": "stream",
     "text": [
      "Enter any number: 100\n",
      "EVEN\n"
     ]
    }
   ],
   "source": [
    "num = int(input(\"Enter any number: \"))\n",
    "if num % 2 == 0 :\n",
    "    print(\"EVEN\")\n",
    "else :\n",
    "    print(\"ODD\")"
   ]
  },
  {
   "cell_type": "code",
   "execution_count": 3,
   "metadata": {},
   "outputs": [
    {
     "name": "stdout",
     "output_type": "stream",
     "text": [
      "Length of list is:  11\n"
     ]
    }
   ],
   "source": [
    "arr = [1, 1, 2, 3, 5, 8, 13, 21, 34, 55, 89]\n",
    "length = len(arr)\n",
    "print(\"Length of list is: \",length)"
   ]
  },
  {
   "cell_type": "code",
   "execution_count": 4,
   "metadata": {},
   "outputs": [
    {
     "name": "stdout",
     "output_type": "stream",
     "text": [
      "Sum of list is:  232\n"
     ]
    }
   ],
   "source": [
    "arr = [1, 1, 2, 3, 5, 8, 13, 21, 34, 55, 89]\n",
    "result = sum(arr)\n",
    "print(\"Sum of list is: \",result)"
   ]
  },
  {
   "cell_type": "code",
   "execution_count": 5,
   "metadata": {},
   "outputs": [
    {
     "name": "stdout",
     "output_type": "stream",
     "text": [
      "Largest number of list is:  89\n"
     ]
    }
   ],
   "source": [
    "arr = [1,3,5,89,1,2,13,34,21,55,8]\n",
    "result = max(arr)\n",
    "print(\"Largest number of list is: \",result)"
   ]
  },
  {
   "cell_type": "code",
   "execution_count": 12,
   "metadata": {},
   "outputs": [
    {
     "name": "stdout",
     "output_type": "stream",
     "text": [
      "[1]\n",
      "[1]\n",
      "[2]\n",
      "[3]\n"
     ]
    }
   ],
   "source": [
    "a = [1, 1, 2, 3, 5, 8, 13, 21, 34, 55, 89]\n",
    "for i in a :\n",
    "    if i < 5 :\n",
    "        print([i])"
   ]
  }
 ],
 "metadata": {
  "kernelspec": {
   "display_name": "Python 3",
   "language": "python",
   "name": "python3"
  },
  "language_info": {
   "codemirror_mode": {
    "name": "ipython",
    "version": 3
   },
   "file_extension": ".py",
   "mimetype": "text/x-python",
   "name": "python",
   "nbconvert_exporter": "python",
   "pygments_lexer": "ipython3",
   "version": "3.7.4"
  }
 },
 "nbformat": 4,
 "nbformat_minor": 2
}
