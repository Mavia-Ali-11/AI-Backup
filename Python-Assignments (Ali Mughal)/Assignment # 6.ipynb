{
 "cells": [
  {
   "cell_type": "markdown",
   "metadata": {},
   "source": [
    "## QUESTION 1\n",
    "### OBJECT ORIENTED PROGRAMMING\n",
    "\n",
    "Object-oriented programming (OOP) is a programming language model in which programs are organized around data, or objects, rather than functions and logic. An object can be defined as a data field that has unique attributes and behavior. Examples of an object can range from physical entities, such as a human being that is described by properties like name and address, down to small computer programs, such as widgets. This opposes the historical approach to programming where emphasis was placed on how the logic was written rather than how to define the data within the logic.\n",
    "\n",
    "The four basic Principles of OOP are:  \n",
    "1) Inheritance.  \n",
    "2) Polymorphism.  \n",
    "3) Abstraction.  \n",
    "4) Encapsulation."
   ]
  },
  {
   "cell_type": "markdown",
   "metadata": {},
   "source": [
    "## QUESTION 2\n",
    "### BENEFITS OF OOP\n",
    "\n",
    "The most common benefits of OOP are following:  \n",
    "\n",
    "        1) Modularity for easier troubleshooting.  \n",
    "        2) Reuse of code through inheritance.  \n",
    "        3) Flexibility through polymorphism.  \n",
    "        4) Effective problem solving.  \n",
    "        5) Data Redundancy.  \n",
    "        6) Code Maintenance.  \n",
    "        7) Design Benefits.  \n",
    "        8) Security.  \n",
    "        9) Better Productivity.  \n",
    "        10) Easy troubleshooting."
   ]
  },
  {
   "cell_type": "markdown",
   "metadata": {},
   "source": [
    "## QUESTION 3\n",
    "### DIFFERENCE BETWEEN FUNCTION AND METHOD\n",
    "\n",
    "FUNCTION :-   \n",
    "A function is a block of code to carry out a specific task, will contain its own scope and is called by name. All functions may contain zero(no) arguments or more than one arguments. On exit, a function can or can not return one or more values.\n",
    "\n",
    "METHOD :-  \n",
    "A method in python is somewhat similar to a function, except it is associated with object/classes. Methods in python are very similar to functions except for two major differences:\n",
    "\n",
    "1) The method is implicitly used for an object for which it is called.   \n",
    "2) The method is accessible to data that is contained within the class."
   ]
  },
  {
   "cell_type": "markdown",
   "metadata": {},
   "source": [
    "## QUESTION 4\n",
    "### CLASS\n",
    "A class is a code template for creating objects. Objects have member variables and have behaviours associated with them. In python a class is created by the keyword class. Basically, it is a template or blueprint about the capability of what an object can do.\n",
    "\n",
    "### OBJECT\n",
    "Object is simply a collection of data (variables) and methods (functions) that act on those data.\n",
    "\n",
    "### ATTRIBUTE\n",
    "Attributes are data stored inside a class or instance and represent the state or quality of the class or instance. \n",
    "In short, attributes store information about the instance.\n",
    "\n",
    "### BEHAVIOUR\n",
    "A class's behavior determines how an instance of that class operates, for example, how it will react if asked to do something by another class or object or if its internal state changes. Behavior is the only way objects can do anything to themselves or have anything done to them."
   ]
  },
  {
   "cell_type": "markdown",
   "metadata": {},
   "source": [
    "## QUESTION 5"
   ]
  },
  {
   "cell_type": "code",
   "execution_count": 7,
   "metadata": {},
   "outputs": [
    {
     "name": "stdout",
     "output_type": "stream",
     "text": [
      "HONDA\n",
      "CIVIC\n",
      "2019\n",
      "BLACK\n",
      "PETROL\n",
      "\n",
      "\n",
      "TOYOTA\n",
      "LAND CRUISER\n",
      "2018\n",
      "WHITE\n",
      "PETROL/DIESEL\n",
      "\n",
      "\n",
      "SUZUKI\n",
      "CULTUS\n",
      "2012\n",
      "GOLDEN\n",
      "CNG/PETROL\n",
      "\n",
      "\n",
      "DAIHATSU\n",
      "MIRA\n",
      "2015\n",
      "PURPLE\n",
      "PETROL\n",
      "\n",
      "\n",
      "NISSAN\n",
      "JUKE\n",
      "2017\n",
      "RED\n",
      "PETROL/DIESEL\n"
     ]
    }
   ],
   "source": [
    "class Car:\n",
    "    def __init__(self,model,fuel):\n",
    "        self.company =\"HONDA\"\n",
    "        self.name = \"CIVIC\"\n",
    "        self.model = model\n",
    "        self.color = \"BLACK\"\n",
    "        self.fuel = fuel\n",
    "    def newcompany(self,company2):\n",
    "        self.company = company2\n",
    "    def newname(self,name2):\n",
    "        self.name = name2\n",
    "    def newcolor(self,color2):\n",
    "        self.color = color2\n",
    "car1 = Car(2019,\"PETROL\")\n",
    "print(car1.company)\n",
    "print(car1.name)\n",
    "print(car1.model)\n",
    "print(car1.color)\n",
    "print(car1.fuel)\n",
    "print(\"\\n\")\n",
    "car2 = Car(2018,\"PETROL/DIESEL\")\n",
    "car2.newcompany(\"TOYOTA\")\n",
    "print(car2.company)\n",
    "car2.newname(\"LAND CRUISER\")\n",
    "print(car2.name)\n",
    "print(car2.model)\n",
    "car2.newcolor(\"WHITE\")\n",
    "print(car2.color)\n",
    "print(car2.fuel)\n",
    "print(\"\\n\")\n",
    "car3 = Car(2012,\"CNG/PETROL\")\n",
    "car3.newcompany(\"SUZUKI\")\n",
    "print(car3.company)\n",
    "car3.newname(\"CULTUS\")\n",
    "print(car3.name)\n",
    "print(car3.model)\n",
    "car3.newcolor(\"GOLDEN\")\n",
    "print(car3.color)\n",
    "print(car3.fuel)\n",
    "print(\"\\n\")\n",
    "car4 = Car(2015,\"PETROL\")\n",
    "car4.newcompany(\"DAIHATSU\")\n",
    "print(car4.company)\n",
    "car4.newname(\"MIRA\")\n",
    "print(car4.name)\n",
    "print(car4.model)\n",
    "car4.newcolor(\"PURPLE\")\n",
    "print(car4.color)\n",
    "print(car4.fuel)\n",
    "print(\"\\n\")\n",
    "car5 = Car(2017,\"PETROL/DIESEL\")\n",
    "car5.newcompany(\"NISSAN\")\n",
    "print(car5.company)\n",
    "car5.newname(\"JUKE\")\n",
    "print(car5.name)\n",
    "print(car5.model)\n",
    "car5.newcolor(\"RED\")\n",
    "print(car5.color)\n",
    "print(car5.fuel)"
   ]
  }
 ],
 "metadata": {
  "kernelspec": {
   "display_name": "Python 3",
   "language": "python",
   "name": "python3"
  },
  "language_info": {
   "codemirror_mode": {
    "name": "ipython",
    "version": 3
   },
   "file_extension": ".py",
   "mimetype": "text/x-python",
   "name": "python",
   "nbconvert_exporter": "python",
   "pygments_lexer": "ipython3",
   "version": "3.7.4"
  }
 },
 "nbformat": 4,
 "nbformat_minor": 2
}
