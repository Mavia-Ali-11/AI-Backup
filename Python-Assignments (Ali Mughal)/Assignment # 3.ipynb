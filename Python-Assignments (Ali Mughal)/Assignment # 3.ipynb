{
 "cells": [
  {
   "cell_type": "code",
   "execution_count": 16,
   "metadata": {},
   "outputs": [
    {
     "name": "stdout",
     "output_type": "stream",
     "text": [
      "Enter any number: 5\n",
      "Enter Operator: **\n",
      "Enter another number: 3\n",
      "Answer: 125\n"
     ]
    }
   ],
   "source": [
    "num1 = int(input(\"Enter any number: \"))\n",
    "operator = input(\"Enter Operator: \")\n",
    "num2 = int(input(\"Enter another number: \"))\n",
    "if operator == '+':\n",
    "    print(\"Answer:\",num1 + num2)\n",
    "elif operator == '-':\n",
    "    print(\"Answer:\",num1 - num2)\n",
    "elif operator == '*':\n",
    "    print(\"Answer:\",num1 * num2)\n",
    "elif operator == '//':\n",
    "    print(\"Answer:\",num1 // num2)\n",
    "elif operator == '**':\n",
    "    print(\"Answer:\",num1 ** num2)\n",
    "else:\n",
    "    print(\"Invalid Operator\")"
   ]
  },
  {
   "cell_type": "code",
   "execution_count": 17,
   "metadata": {},
   "outputs": [
    {
     "name": "stdout",
     "output_type": "stream",
     "text": [
      "Numeric value found: 9\n",
      "Numeric value found: 11\n",
      "Numeric value found: 4.6\n"
     ]
    }
   ],
   "source": [
    "the_list = [9,\"Pakistan\",11, 4.6,'M']\n",
    "for numerics in the_list:\n",
    "    if type(numerics) == int or type(numerics) == float:\n",
    "        print(\"Numeric value found:\",numerics)"
   ]
  },
  {
   "cell_type": "code",
   "execution_count": 38,
   "metadata": {},
   "outputs": [
    {
     "name": "stdout",
     "output_type": "stream",
     "text": [
      "{1: 'Pakistan', 2: 'Saudia Arabia', 3: 'Australia'}\n",
      "After adding a key\n",
      "{1: 'Pakistan', 2: 'Saudia Arabia', 3: 'Australia', 4: 'China'}\n"
     ]
    }
   ],
   "source": [
    "dictionary = {\n",
    "    1 : \"Pakistan\",\n",
    "    2 : \"Saudia Arabia\",\n",
    "    3 : \"Australia\"\n",
    "}\n",
    "print(dictionary)\n",
    "dictionary[4] = \"China\"\n",
    "print(\"After adding a key\")\n",
    "print(dictionary)"
   ]
  },
  {
   "cell_type": "code",
   "execution_count": 39,
   "metadata": {},
   "outputs": [
    {
     "name": "stdout",
     "output_type": "stream",
     "text": [
      "Sum:  18.2\n"
     ]
    }
   ],
   "source": [
    "ans = 0\n",
    "dictionary = {\n",
    "    1 : \"Karachi\",\n",
    "    2 : 7,\n",
    "    3 : 'Ali',\n",
    "    4 : 11.2\n",
    "}\n",
    "for numeric in dictionary.values():\n",
    "    if type(numeric) == int or type(numeric) == float:\n",
    "        ans = ans + numeric\n",
    "print(\"Sum: \",ans)"
   ]
  },
  {
   "cell_type": "code",
   "execution_count": 40,
   "metadata": {},
   "outputs": [
    {
     "name": "stdout",
     "output_type": "stream",
     "text": [
      "Duplicate:  ['Pakistan', 44, 31.1, 'Pakistan', 31.1, 44]\n"
     ]
    }
   ],
   "source": [
    "list = [\"Pakistan\",44,31.1,'Pakistan',3,74,41,31.1,62,44]\n",
    "list_1 =[]\n",
    "for dup in list:\n",
    "    if list.count(dup) > 1:\n",
    "        list_1.append(dup)\n",
    "print(\"Duplicate: \",list_1)"
   ]
  },
  {
   "cell_type": "code",
   "execution_count": 15,
   "metadata": {},
   "outputs": [
    {
     "name": "stdout",
     "output_type": "stream",
     "text": [
      "Key {3} Already Exist\n"
     ]
    }
   ],
   "source": [
    "dictionary = {\n",
    "    1 : 11,\n",
    "    2 : \"Pakistan\",\n",
    "    3 : 21.2,\n",
    "    4 : \"Hello\"\n",
    "}\n",
    "key = 3\n",
    "for a in dictionary.keys():\n",
    "    if a == key:\n",
    "        print(\"Key\",{key},\"Already Exist\")\n",
    "        break\n",
    "else:\n",
    "    print(\"No Key Exist\")"
   ]
  }
 ],
 "metadata": {
  "kernelspec": {
   "display_name": "Python 3",
   "language": "python",
   "name": "python3"
  },
  "language_info": {
   "codemirror_mode": {
    "name": "ipython",
    "version": 3
   },
   "file_extension": ".py",
   "mimetype": "text/x-python",
   "name": "python",
   "nbconvert_exporter": "python",
   "pygments_lexer": "ipython3",
   "version": "3.7.4"
  }
 },
 "nbformat": 4,
 "nbformat_minor": 2
}
