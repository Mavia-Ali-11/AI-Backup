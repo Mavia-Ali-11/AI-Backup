{
 "cells": [
  {
   "cell_type": "code",
   "execution_count": 1,
   "metadata": {},
   "outputs": [
    {
     "name": "stdout",
     "output_type": "stream",
     "text": [
      "{'First_Name': 'MAVIA', 'Last_Name': 'ALI', 'Age': 19, 'City': 'KARACHI'}\n",
      "{'First_Name': 'MAVIA', 'Last_Name': 'ALI', 'Age': 19, 'City': 'KARACHI', 'Qualification': 'INTER'}\n",
      "{'First_Name': 'MAVIA', 'Last_Name': 'ALI', 'Age': 19, 'City': 'KARACHI', 'Qualification': 'UNDERGRADUATE'}\n",
      "{'First_Name': 'MAVIA', 'Last_Name': 'ALI', 'Age': 19, 'City': 'KARACHI'}\n"
     ]
    }
   ],
   "source": [
    "person = {\n",
    "     \"First_Name\" : \"MAVIA\",\n",
    "     \"Last_Name\" : \"ALI\",\n",
    "     \"Age\" : 19,\n",
    "     \"City\" : \"KARACHI\"\n",
    "          }\n",
    "print(person)\n",
    "person[\"Qualification\"] = \"INTER\"\n",
    "print(person)\n",
    "person[\"Qualification\"] = \"UNDERGRADUATE\"\n",
    "print(person)\n",
    "del person[\"Qualification\"]\n",
    "print(person)"
   ]
  },
  {
   "cell_type": "code",
   "execution_count": 4,
   "metadata": {},
   "outputs": [
    {
     "name": "stdout",
     "output_type": "stream",
     "text": [
      "{'COUNTRY': 'PAKISTAN', 'POPULATION': 15741000, 'FACT': 'It is also known as city of lights'}\n",
      "{'COUNTRY': 'INDIA', 'POPULATION': 20185064, 'FACT': 'It is the wealthiest city in India'}\n",
      "{'COUNTRY': 'TURKEY', 'POPULATION': 14968000, 'FACT': 'It is the only city that straddles two continents, ASIA AND EUROPE'}\n"
     ]
    }
   ],
   "source": [
    "cities = {    \n",
    "    \"KARACHI\" : {\n",
    "                    \"COUNTRY\" : \"PAKISTAN\",\n",
    "                    \"POPULATION\" : 15741000,\n",
    "                    \"FACT\" : \"It is also known as city of lights\"\n",
    "                },\n",
    "    \"MUMBAI\" : {\n",
    "                    \"COUNTRY\" : \"INDIA\",\n",
    "                    \"POPULATION\" :  20185064,\n",
    "                    \"FACT\" : \"It is the wealthiest city in India\"\n",
    "                },\n",
    "    \"ISTANBUL\" : {\n",
    "                    \"COUNTRY\" : \"TURKEY\",\n",
    "                    \"POPULATION\" : 14968000,\n",
    "                    \"FACT\" : \"It is the only city that straddles two continents, ASIA AND EUROPE\"\n",
    "                 }\n",
    "        }\n",
    "print(cities[\"KARACHI\"])\n",
    "print(cities[\"MUMBAI\"])\n",
    "print(cities[\"ISTANBUL\"])"
   ]
  },
  {
   "cell_type": "code",
   "execution_count": 7,
   "metadata": {},
   "outputs": [
    {
     "name": "stdout",
     "output_type": "stream",
     "text": [
      "Enter your age 19\n",
      "THE PRICE OF TICKET IS 15$\n"
     ]
    }
   ],
   "source": [
    "age = input(\"Enter your age \")\n",
    "age1 = int(age)\n",
    "for i in age :\n",
    "    if age1< 3 :\n",
    "        print(\"THE TICKET IS FREE FOR YOU\")\n",
    "    elif age1>=3 and age1<=12 :\n",
    "        print(\"THE PRICE OF TICKET IS 10$\")\n",
    "        break\n",
    "    elif age1> 12 :\n",
    "        print(\"THE PRICE OF TICKET IS 15$\")\n",
    "        break"
   ]
  },
  {
   "cell_type": "code",
   "execution_count": 12,
   "metadata": {},
   "outputs": [
    {
     "name": "stdout",
     "output_type": "stream",
     "text": [
      "One of my Favourite Book is: ALICE IN WONDERLAND\n"
     ]
    }
   ],
   "source": [
    "def favourite_book(title):\n",
    "    print(\"One of my Favourite Book is: \" +title)\n",
    "    \n",
    "favourite_book(\"ALICE IN WONDERLAND\" )"
   ]
  },
  {
   "cell_type": "code",
   "execution_count": 18,
   "metadata": {},
   "outputs": [
    {
     "name": "stdout",
     "output_type": "stream",
     "text": [
      "\n",
      "You have 5 chances to guess the hidden number (from 1 to 30): 22\n",
      "\tYour guess is greater than the hidden number!\n",
      "\n",
      "You have 4 chances to guess the hidden number (from 1 to 30): 31\n",
      "\tYour guess is greater than the hidden number!\n",
      "\n",
      "You have 3 chances to guess the hidden number (from 1 to 30): 44\n",
      "\tYour guess is greater than the hidden number!\n",
      "\n",
      "You have 2 chances to guess the hidden number (from 1 to 30): 9\n",
      "\tYour guess is less than the hidden number!\n",
      "\n",
      "You have 1 chances to guess the hidden number (from 1 to 30): 17\n",
      "\tYour guess is greater than the hidden number!\n",
      "\n",
      "\tYou Lost ! :(  Hidden Number was 10\n"
     ]
    }
   ],
   "source": [
    "import random as rd\n",
    "i = 5\n",
    "while i > 0:\n",
    "    correct_num = rd.randint(1,30)\n",
    "    user_num = int(input(f\"\\nYou have {i} chances to guess the hidden number (from 1 to 30): \"))\n",
    "    \n",
    "    if user_num == correct_num:\n",
    "        print(\"\\t***Congrats ! Correct Guess, You Won*** :)\")\n",
    "        break\n",
    "    elif user_num > correct_num:\n",
    "        print(\"\\tYour guess is greater than the hidden number!\")\n",
    "        i -= 1\n",
    "    elif user_num < correct_num:\n",
    "        print(\"\\tYour guess is less than the hidden number!\")\n",
    "        i-=1\n",
    "    elif user_num < 1 or user_num > 30:\n",
    "        print(\"\\tPlease enter number in range 1 to 30!\")\n",
    "        \n",
    "if i == 0:\n",
    "    print(f\"\\n\\tYou Lost ! :(  Hidden Number was {correct_num}\")"
   ]
  }
 ],
 "metadata": {
  "kernelspec": {
   "display_name": "Python 3",
   "language": "python",
   "name": "python3"
  },
  "language_info": {
   "codemirror_mode": {
    "name": "ipython",
    "version": 3
   },
   "file_extension": ".py",
   "mimetype": "text/x-python",
   "name": "python",
   "nbconvert_exporter": "python",
   "pygments_lexer": "ipython3",
   "version": "3.7.4"
  }
 },
 "nbformat": 4,
 "nbformat_minor": 2
}
