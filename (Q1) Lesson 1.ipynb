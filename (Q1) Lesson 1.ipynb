{
 "cells": [
  {
   "cell_type": "markdown",
   "metadata": {},
   "source": [
    "### Print Function"
   ]
  },
  {
   "cell_type": "code",
   "execution_count": 14,
   "metadata": {},
   "outputs": [
    {
     "name": "stdout",
     "output_type": "stream",
     "text": [
      "Alhamdulillah\n"
     ]
    }
   ],
   "source": [
    "print(\"Alhamdulillah\")"
   ]
  },
  {
   "cell_type": "code",
   "execution_count": 32,
   "metadata": {},
   "outputs": [
    {
     "name": "stdout",
     "output_type": "stream",
     "text": [
      "Mavia Ali\n"
     ]
    }
   ],
   "source": [
    "print(\"Mavia\",\"Ali\")"
   ]
  },
  {
   "cell_type": "code",
   "execution_count": 33,
   "metadata": {},
   "outputs": [],
   "source": [
    "#Write print function and press 'Alt+Tab' in braces it will show the attributes of function.\n",
    "\n",
    "sep = \" \"\n",
    "end = \"\\n\""
   ]
  },
  {
   "cell_type": "code",
   "execution_count": 34,
   "metadata": {},
   "outputs": [
    {
     "name": "stdout",
     "output_type": "stream",
     "text": [
      "Mavia-Ali\n",
      "Mavia.Ali\n"
     ]
    }
   ],
   "source": [
    "print(\"Mavia\",\"Ali\",sep = \"-\")\n",
    "print(\"Mavia\",\"Ali\",sep = \".\")"
   ]
  },
  {
   "cell_type": "code",
   "execution_count": 35,
   "metadata": {},
   "outputs": [
    {
     "name": "stdout",
     "output_type": "stream",
     "text": [
      "Mavia Ali\n",
      "Pakistan\tZindabad\n"
     ]
    }
   ],
   "source": [
    "print(\"Mavia\",end = \" \")\n",
    "print(\"Ali\")\n",
    "print(\"Pakistan\",end = \"\\t\")\n",
    "print(\"Zindabad\")"
   ]
  },
  {
   "cell_type": "markdown",
   "metadata": {},
   "source": [
    "### Variables"
   ]
  },
  {
   "cell_type": "code",
   "execution_count": 128,
   "metadata": {},
   "outputs": [
    {
     "name": "stdout",
     "output_type": "stream",
     "text": [
      "Mavia\n"
     ]
    }
   ],
   "source": [
    "a = \"Mavia\"\n",
    "print(a)\n",
    "\n",
    "# a is variable name (identifier)\n",
    "# = is assigning operator\n",
    "# \"Mavia\" is a value\n",
    "# So,Value Mavia is assigned to variable a"
   ]
  },
  {
   "cell_type": "code",
   "execution_count": 129,
   "metadata": {},
   "outputs": [
    {
     "name": "stdout",
     "output_type": "stream",
     "text": [
      "11\n"
     ]
    }
   ],
   "source": [
    "a = 11\n",
    "print(a)"
   ]
  },
  {
   "cell_type": "code",
   "execution_count": 130,
   "metadata": {},
   "outputs": [
    {
     "data": {
      "text/plain": [
       "str"
      ]
     },
     "execution_count": 130,
     "metadata": {},
     "output_type": "execute_result"
    }
   ],
   "source": [
    "#Finding DataTypes of Variables\n",
    "\n",
    "a = \"Mavia\"\n",
    "type(a)"
   ]
  },
  {
   "cell_type": "code",
   "execution_count": 131,
   "metadata": {},
   "outputs": [
    {
     "data": {
      "text/plain": [
       "int"
      ]
     },
     "execution_count": 131,
     "metadata": {},
     "output_type": "execute_result"
    }
   ],
   "source": [
    "a = 11\n",
    "type(a)"
   ]
  },
  {
   "cell_type": "code",
   "execution_count": 132,
   "metadata": {},
   "outputs": [
    {
     "data": {
      "text/plain": [
       "float"
      ]
     },
     "execution_count": 132,
     "metadata": {},
     "output_type": "execute_result"
    }
   ],
   "source": [
    "a = 11.11\n",
    "type(a)"
   ]
  },
  {
   "cell_type": "code",
   "execution_count": 133,
   "metadata": {},
   "outputs": [
    {
     "name": "stdout",
     "output_type": "stream",
     "text": [
      "Mavia Ali\n"
     ]
    }
   ],
   "source": [
    "#Concatenation\n",
    "\n",
    "first_name = \"Mavia\"\n",
    "last_name = \"Ali\"\n",
    "full_name = first_name + \" \" + last_name\n",
    "print(full_name)"
   ]
  },
  {
   "cell_type": "code",
   "execution_count": 134,
   "metadata": {},
   "outputs": [
    {
     "name": "stdout",
     "output_type": "stream",
     "text": [
      "1020\n"
     ]
    }
   ],
   "source": [
    "#In string '+' is not addition but it's 'concatenation' means 'joining' two values\n",
    "\n",
    "val1 = \"10\"\n",
    "val2 = \"20\"\n",
    "c = val1 + val2\n",
    "print(c)"
   ]
  },
  {
   "cell_type": "markdown",
   "metadata": {},
   "source": [
    "### Operators"
   ]
  },
  {
   "cell_type": "code",
   "execution_count": 135,
   "metadata": {},
   "outputs": [
    {
     "name": "stdout",
     "output_type": "stream",
     "text": [
      "20\n"
     ]
    }
   ],
   "source": [
    "#Operators (+  -  *  /  %)\n",
    "\n",
    "print(10 + 10)"
   ]
  },
  {
   "cell_type": "code",
   "execution_count": 136,
   "metadata": {},
   "outputs": [
    {
     "name": "stdout",
     "output_type": "stream",
     "text": [
      "30\n",
      "10\n",
      "200\n",
      "2.0\n",
      "2\n",
      "0\n"
     ]
    }
   ],
   "source": [
    "a = 20\n",
    "b = 10\n",
    "c = a + b       #This is called an'Expression'\n",
    "d = a - b\n",
    "e = a * b\n",
    "f = a / b       #By default gives ans in float\n",
    "g = a // b      #For int ans use double '/'\n",
    "h = a % b\n",
    "print(c)\n",
    "print(d)\n",
    "print(e)\n",
    "print(f)\n",
    "print(g)\n",
    "print(h)"
   ]
  },
  {
   "cell_type": "code",
   "execution_count": 137,
   "metadata": {},
   "outputs": [
    {
     "name": "stdout",
     "output_type": "stream",
     "text": [
      "99.99\n",
      "99.99\n"
     ]
    }
   ],
   "source": [
    "a = 100\n",
    "b = 0.01\n",
    "c = a - b\n",
    "print(c)\n",
    "#Or\n",
    "print(a - b)"
   ]
  },
  {
   "cell_type": "code",
   "execution_count": 138,
   "metadata": {},
   "outputs": [
    {
     "name": "stdout",
     "output_type": "stream",
     "text": [
      "1\n"
     ]
    }
   ],
   "source": [
    "#Modulus(remainder) operator\n",
    "\n",
    "a = 10\n",
    "b = 3\n",
    "print(a % b)    #return remainder after division    "
   ]
  },
  {
   "cell_type": "markdown",
   "metadata": {},
   "source": [
    "### If - Else Statements"
   ]
  },
  {
   "cell_type": "code",
   "execution_count": 139,
   "metadata": {},
   "outputs": [
    {
     "name": "stdout",
     "output_type": "stream",
     "text": [
      "This is 'if' Statement\n"
     ]
    }
   ],
   "source": [
    "a = 100\n",
    "b = 200\n",
    "if a < b:                           #Here,'if' statement is true so it will be executed \n",
    "    print(\"This is 'if' Statement\")\n",
    "else:\n",
    "    print(\"This is 'else' Statement\")"
   ]
  },
  {
   "cell_type": "code",
   "execution_count": 142,
   "metadata": {},
   "outputs": [
    {
     "name": "stdout",
     "output_type": "stream",
     "text": [
      "This is 'else' Statement\n"
     ]
    }
   ],
   "source": [
    "a = 200\n",
    "b = 100\n",
    "if a < b:                           #Here,'if' statement is false so 'else' will be executed\n",
    "    print(\"This is 'if' Statement\")\n",
    "else:                               \n",
    "    print(\"This is 'else' Statement\")"
   ]
  },
  {
   "cell_type": "code",
   "execution_count": 9,
   "metadata": {},
   "outputs": [
    {
     "name": "stdout",
     "output_type": "stream",
     "text": [
      "This is 'elif' Statement\n"
     ]
    }
   ],
   "source": [
    "a = 100 \n",
    "b = 100\n",
    "if a < b:                           #Here,'if' statement is false so it will not be exucuted                        \n",
    "    print(\"This is 'if' Statement\")\n",
    "elif a == b:                        #Here,'elif' statement is true so it will be executed and code will not go further\n",
    "    print(\"This is 'elif' Statement\")\n",
    "else:                               \n",
    "    print(\"This is 'else' Statement\")"
   ]
  },
  {
   "cell_type": "markdown",
   "metadata": {},
   "source": [
    "### LIST "
   ]
  },
  {
   "cell_type": "code",
   "execution_count": 158,
   "metadata": {},
   "outputs": [
    {
     "name": "stdout",
     "output_type": "stream",
     "text": [
      "['Mavia', 'Omama', 'Muntaha', 'Mustafa']\n"
     ]
    }
   ],
   "source": [
    "#String List\n",
    "list1 = [\"Mavia\",\"Omama\",\"Muntaha\",\"Mustafa\"] \n",
    "print(list1)"
   ]
  },
  {
   "cell_type": "code",
   "execution_count": 155,
   "metadata": {},
   "outputs": [
    {
     "name": "stdout",
     "output_type": "stream",
     "text": [
      "[1, 2, 3, 4, 5, 6, 7, 8, 9, 10]\n"
     ]
    }
   ],
   "source": [
    "#Integer List\n",
    "list2 = [1,2,3,4,5,6,7,8,9,10]\n",
    "print(list2)"
   ]
  },
  {
   "cell_type": "code",
   "execution_count": 156,
   "metadata": {},
   "outputs": [
    {
     "name": "stdout",
     "output_type": "stream",
     "text": [
      "[1.2, 2.3, 3.4, 4.5, 5.6, 6.7]\n"
     ]
    }
   ],
   "source": [
    "#Float List\n",
    "list3 = [1.2,2.3,3.4,4.5,5.6,6.7]\n",
    "print(list3)"
   ]
  },
  {
   "cell_type": "code",
   "execution_count": 161,
   "metadata": {},
   "outputs": [
    {
     "name": "stdout",
     "output_type": "stream",
     "text": [
      "['Mavia', 11, 'Ali', 99.99]\n"
     ]
    }
   ],
   "source": [
    "#Mix List\n",
    "list4 = [\"Mavia\",11,\"Ali\",99.99]\n",
    "print(list4)"
   ]
  },
  {
   "cell_type": "code",
   "execution_count": 17,
   "metadata": {},
   "outputs": [
    {
     "name": "stdout",
     "output_type": "stream",
     "text": [
      "Mavia\n",
      "Omama\n",
      "Muntaha\n",
      "Mustafa\n"
     ]
    }
   ],
   "source": [
    "#Indexes of List\n",
    "#Accessing members of list through index.no\n",
    "\n",
    "#Indexes   -4       -3       -2       -1\n",
    "list1 = [\"Mavia\",\"Omama\",\"Muntaha\",\"Mustafa\"] \n",
    "#Indexes    0       1        2         3\n",
    "\n",
    "print(list1[0])\n",
    "print(list1[1])\n",
    "print(list1[-2])\n",
    "print(list1[-1])"
   ]
  },
  {
   "cell_type": "code",
   "execution_count": 92,
   "metadata": {},
   "outputs": [
    {
     "name": "stdout",
     "output_type": "stream",
     "text": [
      "[True, False]\n"
     ]
    }
   ],
   "source": [
    "#Changing specific index (1)\n",
    "\n",
    "state = [False,True]\n",
    "state[0] = True\n",
    "state[1] = False\n",
    "print(state)"
   ]
  },
  {
   "cell_type": "code",
   "execution_count": 90,
   "metadata": {},
   "outputs": [
    {
     "name": "stdout",
     "output_type": "stream",
     "text": [
      "Sorted Week: ['Monday', 'Tuesday', 'Wednesday', 'Thursday', 'Friday', 'Saturday', 'Sunday']\n"
     ]
    }
   ],
   "source": [
    "#Changing specific index (2)\n",
    "\n",
    "days = [\"Monday\",\"Tuesday\",\"Saturday\",\"Thursday\",\"Friday\",\"Wednesday\",\"Sunday\"]\n",
    "days[2] = \"Wednesday\"\n",
    "days[5] = \"Saturday\"\n",
    "print(\"Sorted Week:\",days)"
   ]
  },
  {
   "cell_type": "code",
   "execution_count": 58,
   "metadata": {},
   "outputs": [
    {
     "name": "stdout",
     "output_type": "stream",
     "text": [
      "['slice2']\n",
      "['slice2', 'slice3']\n",
      "\n",
      "['slice2', 'slice3', 'slice4']\n",
      "['slice0', 'slice1', 'slice2', 'slice3', 'slice4']\n",
      "\n",
      "['slice1', 'slice2', 'slice3']\n",
      "['slice1', 'slice2', 'slice3']\n",
      "\n",
      "['slice0', 'slice1', 'slice2', 'slice3']\n",
      "['slice1', 'slice2', 'slice3', 'slice4', 'slice5']\n",
      "['slice0', 'slice1', 'slice2', 'slice3', 'slice4', 'slice5']\n"
     ]
    }
   ],
   "source": [
    "#Slicing\n",
    "\n",
    "#Indexes    -6       -5       -4       -3       -2       -1\n",
    "slices = [\"slice0\",\"slice1\",\"slice2\",\"slice3\",\"slice4\",\"slice5\"]\n",
    "#Indexes     0        1        2        3        4        5 \n",
    "\n",
    "#slices[start:end+1]\n",
    "print(slices[2:3])              #Slicing through +ive indexes\n",
    "print(slices[2:4])\n",
    "print()\n",
    "print(slices[-4:-1])            #Slicing through -ive indexes\n",
    "print(slices[-6:-1])\n",
    "print()\n",
    "print(slices[-5:4])             #Slicing through both +ive & -ive indexes\n",
    "print(slices[1:-2])\n",
    "print()\n",
    "print(slices[:4])               #Smart Slicing\n",
    "print(slices[1:])\n",
    "print(slices[:])"
   ]
  },
  {
   "cell_type": "code",
   "execution_count": 80,
   "metadata": {},
   "outputs": [
    {
     "name": "stdout",
     "output_type": "stream",
     "text": [
      "[0, 1, 2, 3, 4, 5, 6, 7, 8, 9, 10]\n",
      "[0, 2, 4, 6, 8, 10, 12, 14, 16, 18, 20]\n",
      "[1, 3, 5, 7, 9, 11, 13, 15, 17, 19]\n",
      "[5, 8]\n",
      "[0, 5, 10, 15, 20]\n",
      "[0, 10, 20]\n"
     ]
    }
   ],
   "source": [
    "#Slicing with Steps\n",
    "\n",
    "nums = [0,1,2,3,4,5,6,7,8,9,10,11,12,13,14,15,16,17,18,19,20]\n",
    "\n",
    "#print(nums[start:end+1:take_steps])\n",
    "print(nums[0:11:1])                     #Here '1' is steps taken by sliced array.\n",
    "print(nums[0:21:2])                     #(2 steps)  \n",
    "print(nums[1:21:2])                     #(2 steps)\n",
    "print(nums[5:11:3])                     #(3 steps)\n",
    "print(nums[::5])                        #(5 steps) \n",
    "print(nums[::10])                       #(10 steps)"
   ]
  },
  {
   "cell_type": "code",
   "execution_count": 301,
   "metadata": {},
   "outputs": [
    {
     "name": "stdout",
     "output_type": "stream",
     "text": [
      "True\n",
      "False\n"
     ]
    }
   ],
   "source": [
    "#Searching member in list\n",
    "\n",
    "countries = [\"Pakistan\",\"SaudiaArabia\",\"Australia\",\"France\",\"England\"]\n",
    "print(\"Pakistan\" in countries)\n",
    "print(\"America\" in countries)"
   ]
  },
  {
   "cell_type": "markdown",
   "metadata": {},
   "source": [
    "### Functions On List"
   ]
  },
  {
   "cell_type": "code",
   "execution_count": 14,
   "metadata": {},
   "outputs": [
    {
     "name": "stdout",
     "output_type": "stream",
     "text": [
      "5\n"
     ]
    }
   ],
   "source": [
    "#Finding length Of list\n",
    "\n",
    "countries = [\"Pakistan\",\"SaudiaArabia\",\"Australia\",\"France\",\"England\"]\n",
    "print(len(countries))"
   ]
  },
  {
   "cell_type": "code",
   "execution_count": 15,
   "metadata": {},
   "outputs": [
    {
     "name": "stdout",
     "output_type": "stream",
     "text": [
      "['Mango', 'Grapes', 'Apple']\n"
     ]
    }
   ],
   "source": [
    "#Adding member in a list\n",
    "\n",
    "fruits = [\"Mango\",\"Grapes\"]\n",
    "fruits.append(\"Apple\")          #Append function add member at the end(tail) of the list\n",
    "print(fruits)"
   ]
  },
  {
   "cell_type": "code",
   "execution_count": 16,
   "metadata": {},
   "outputs": [
    {
     "name": "stdout",
     "output_type": "stream",
     "text": [
      "['Mango', 'Orange', 'Grapes', 'Apple']\n"
     ]
    }
   ],
   "source": [
    "#Adding member in a list at specific index\n",
    "\n",
    "fruits.insert(1,\"Orange\")       #Insert function add member at the specific index of the list\n",
    "print(fruits)"
   ]
  },
  {
   "cell_type": "code",
   "execution_count": 17,
   "metadata": {},
   "outputs": [
    {
     "name": "stdout",
     "output_type": "stream",
     "text": [
      "['Mango', 'Orange', 'Grapes', 'Apple', 'Cherry', 'Guava', 'Banana']\n"
     ]
    }
   ],
   "source": [
    "#Adding more then one memeber in a list\n",
    "\n",
    "fruits.extend([\"Cherry\",\"Guava\",\"Banana\"])      #Extend function add members at the end(tail) of the list\n",
    "print(fruits)"
   ]
  },
  {
   "cell_type": "code",
   "execution_count": 220,
   "metadata": {},
   "outputs": [
    {
     "name": "stdout",
     "output_type": "stream",
     "text": [
      "2\n",
      "4\n"
     ]
    }
   ],
   "source": [
    "#Finding Index.no of a specific member\n",
    "\n",
    "print(fruits.index(\"Grapes\"))\n",
    "print(fruits.index(\"Cherry\"))"
   ]
  },
  {
   "cell_type": "code",
   "execution_count": 221,
   "metadata": {},
   "outputs": [
    {
     "name": "stdout",
     "output_type": "stream",
     "text": [
      "['Mango', 'Orange', 'Grapes', 'Apple', 'Cherry', 'Guava', 'Banana']\n"
     ]
    }
   ],
   "source": [
    "#Final List\n",
    "\n",
    "print(fruits)"
   ]
  },
  {
   "cell_type": "code",
   "execution_count": 19,
   "metadata": {},
   "outputs": [
    {
     "name": "stdout",
     "output_type": "stream",
     "text": [
      "3\n",
      "1\n"
     ]
    }
   ],
   "source": [
    "#Counting specific member in a list \n",
    "\n",
    "vegetables = [\"Potato\",\"Tomato\",\"Potato\",\"Brinjal\",\"Ginger\",\"Potato\"]\n",
    "print(vegetables.count(\"Potato\"))\n",
    "print(vegetables.count(\"Brinjal\"))"
   ]
  },
  {
   "cell_type": "code",
   "execution_count": 20,
   "metadata": {},
   "outputs": [
    {
     "name": "stdout",
     "output_type": "stream",
     "text": [
      "None\n"
     ]
    }
   ],
   "source": [
    "#Clearing the list permanently means(all memebers will vanish)\n",
    "\n",
    "print(vegetables.clear())"
   ]
  },
  {
   "cell_type": "code",
   "execution_count": 21,
   "metadata": {},
   "outputs": [
    {
     "name": "stdout",
     "output_type": "stream",
     "text": [
      "[]\n"
     ]
    }
   ],
   "source": [
    "#Final list\n",
    "\n",
    "print(vegetables)\n",
    "#All members are vanished out"
   ]
  },
  {
   "cell_type": "code",
   "execution_count": 261,
   "metadata": {},
   "outputs": [
    {
     "name": "stdout",
     "output_type": "stream",
     "text": [
      "['Almond', 'Peanut', 'Walnut']\n"
     ]
    }
   ],
   "source": [
    "#Copying the list in another variable\n",
    "\n",
    "dfruits = [\"Almond\",\"Peanut\",\"Walnut\"]\n",
    "dfruits1 = dfruits.copy()               #copy by value(means both variables pointing to different list)\n",
    "print(dfruits1)"
   ]
  },
  {
   "cell_type": "code",
   "execution_count": 262,
   "metadata": {},
   "outputs": [
    {
     "name": "stdout",
     "output_type": "stream",
     "text": [
      "['Almond', 'Peanut', 'Walnut', 'New Dfruit']\n",
      "['Almond', 'Peanut', 'Walnut']\n",
      "['Almond', 'Peanut', 'Walnut', 'New Dfruit']\n"
     ]
    }
   ],
   "source": [
    "dfruits2 = dfruits                      #copy by reference(means both variables pointing to 1 list)\n",
    "dfruits.append(\"New Dfruit\")\n",
    "print(dfruits)\n",
    "print(dfruits1)                         #'New Dfruit' not appended in 'dfruits1' variable because it is another copy now.\n",
    "print(dfruits2)"
   ]
  },
  {
   "cell_type": "code",
   "execution_count": 263,
   "metadata": {},
   "outputs": [
    {
     "name": "stdout",
     "output_type": "stream",
     "text": [
      "['Almond', 'Peanut', 'Walnut', 'New Dfruit']\n",
      "['Almond', 'Peanut', 'Walnut']\n"
     ]
    }
   ],
   "source": [
    "#Deleting member from a list by providing index.no\n",
    "\n",
    "print(dfruits)\n",
    "del dfruits[3]\n",
    "print(dfruits)"
   ]
  },
  {
   "cell_type": "code",
   "execution_count": 264,
   "metadata": {},
   "outputs": [
    {
     "name": "stdout",
     "output_type": "stream",
     "text": [
      "['Almond', 'Peanut', 'Walnut']\n",
      "['Almond', 'Peanut']\n"
     ]
    }
   ],
   "source": [
    "#Removing member from a list by providing name\n",
    "\n",
    "print(dfruits2)\n",
    "dfruits2.remove(\"Walnut\")\n",
    "print(dfruits2)"
   ]
  },
  {
   "cell_type": "code",
   "execution_count": 279,
   "metadata": {},
   "outputs": [
    {
     "name": "stdout",
     "output_type": "stream",
     "text": [
      "Original List: ['Karachi', 'Lahore', 'Islamabad', 'Murree']\n",
      "Popped member of list: Murree\n",
      "Popped List: ['Karachi', 'Lahore', 'Islamabad']\n"
     ]
    }
   ],
   "source": [
    "#Poping last member from a list\n",
    "\n",
    "cities = [\"Karachi\",\"Lahore\",\"Islamabad\",\"Murree\"]\n",
    "print(\"Original List:\",cities)\n",
    "popped = cities.pop()\n",
    "print(\"Popped member of list:\",popped)\n",
    "print(\"Popped List:\",cities)"
   ]
  },
  {
   "cell_type": "code",
   "execution_count": 280,
   "metadata": {},
   "outputs": [
    {
     "name": "stdout",
     "output_type": "stream",
     "text": [
      "Islamabad\n"
     ]
    }
   ],
   "source": [
    "#Popping member from a list by providing index.no\n",
    "\n",
    "print(cities.pop(2))"
   ]
  },
  {
   "cell_type": "code",
   "execution_count": 290,
   "metadata": {},
   "outputs": [
    {
     "name": "stdout",
     "output_type": "stream",
     "text": [
      "['A', 'B', 'C', 'D', 'E', 'F', 'G', 'H']\n"
     ]
    }
   ],
   "source": [
    "#Sorting List means (Arranging in Alphabetical Order)\n",
    "\n",
    "alphabets = [\"H\",\"G\",\"F\",\"E\",\"D\",\"C\",\"B\",\"A\"]\n",
    "alphabets.sort()\n",
    "print(alphabets)"
   ]
  },
  {
   "cell_type": "code",
   "execution_count": 24,
   "metadata": {},
   "outputs": [
    {
     "name": "stdout",
     "output_type": "stream",
     "text": [
      "['Aniq', 'Mavia', 'Salman', 'Sherry', 'Ziyad']\n"
     ]
    }
   ],
   "source": [
    "#Sorting List means (Arranging in Alphabetical Order)\n",
    "\n",
    "fab5 = [\"Ziyad\",\"Sherry\",\"Salman\",\"Mavia\",\"Aniq\"]\n",
    "fab5.sort()\n",
    "print(fab5)"
   ]
  },
  {
   "cell_type": "code",
   "execution_count": 25,
   "metadata": {},
   "outputs": [
    {
     "name": "stdout",
     "output_type": "stream",
     "text": [
      "[1, 2, 3, 4, 5, 6, 7, 8, 9, 10]\n"
     ]
    }
   ],
   "source": [
    "#Sorting List means (Arranging in Ascending Order)\n",
    "\n",
    "numbers = [10,9,8,7,6,5,4,3,2,1]\n",
    "numbers.sort()\n",
    "print(numbers)"
   ]
  },
  {
   "cell_type": "code",
   "execution_count": 26,
   "metadata": {},
   "outputs": [
    {
     "name": "stdout",
     "output_type": "stream",
     "text": [
      "['H', 'G', 'F', 'E', 'D', 'C', 'B', 'A']\n"
     ]
    }
   ],
   "source": [
    "#Reversing List means (Arranging alphabets in reverse order)\n",
    "\n",
    "alphabets1 = ['A', 'B', 'C', 'D', 'E', 'F', 'G', 'H']\n",
    "alphabets1.reverse()\n",
    "print(alphabets1)"
   ]
  },
  {
   "cell_type": "code",
   "execution_count": 27,
   "metadata": {},
   "outputs": [
    {
     "name": "stdout",
     "output_type": "stream",
     "text": [
      "['Ziyad', 'Sherry', 'Salman', 'Mavia', 'Aniq']\n"
     ]
    }
   ],
   "source": [
    "#Reversing List means (Arranging alphabets in reverse order)\n",
    "\n",
    "fab5 = [\"Aniq\",\"Mavia\",\"Salman\",\"Sherry\",\"Ziyad\"]\n",
    "fab5.reverse()\n",
    "print(fab5)"
   ]
  },
  {
   "cell_type": "code",
   "execution_count": 30,
   "metadata": {},
   "outputs": [
    {
     "name": "stdout",
     "output_type": "stream",
     "text": [
      "[10, 9, 8, 7, 6, 5, 4, 3, 2, 1]\n"
     ]
    }
   ],
   "source": [
    "#Reversing List means (Arranging in Descending Order)\n",
    "\n",
    "numbers2 = [1,2,3,4,5,6,7,8,9,10]\n",
    "numbers2.reverse()\n",
    "print(numbers)"
   ]
  },
  {
   "cell_type": "markdown",
   "metadata": {},
   "source": [
    "### Tuples"
   ]
  },
  {
   "cell_type": "code",
   "execution_count": 96,
   "metadata": {},
   "outputs": [
    {
     "name": "stdout",
     "output_type": "stream",
     "text": [
      "(11, 'Mavia', 99.99, True, 'Pakistan')\n"
     ]
    }
   ],
   "source": [
    "#Tuples are Immutable(means can't change their state like list)\n",
    "\n",
    "tup = (11,\"Mavia\",99.99,True,\"Pakistan\")\n",
    "print(tup)"
   ]
  },
  {
   "cell_type": "code",
   "execution_count": 97,
   "metadata": {},
   "outputs": [
    {
     "name": "stdout",
     "output_type": "stream",
     "text": [
      "Mavia\n",
      "Pakistan\n"
     ]
    }
   ],
   "source": [
    "#Accesing specific index\n",
    "\n",
    "print(tup[1])\n",
    "print(tup[4])"
   ]
  },
  {
   "cell_type": "code",
   "execution_count": 99,
   "metadata": {},
   "outputs": [
    {
     "name": "stdout",
     "output_type": "stream",
     "text": [
      "5\n"
     ]
    }
   ],
   "source": [
    "#Finding length of tuple\n",
    "\n",
    "print(len(tup))"
   ]
  },
  {
   "cell_type": "code",
   "execution_count": 100,
   "metadata": {},
   "outputs": [
    {
     "name": "stdout",
     "output_type": "stream",
     "text": [
      "3\n"
     ]
    }
   ],
   "source": [
    "#Counting specific member in a tuple\n",
    "\n",
    "vegetables = (\"Potato\",\"Tomato\",\"Potato\",\"Brinjal\",\"Ginger\",\"Potato\")\n",
    "\n",
    "print(vegetables.count(\"Potato\"))"
   ]
  },
  {
   "cell_type": "code",
   "execution_count": 103,
   "metadata": {},
   "outputs": [
    {
     "name": "stdout",
     "output_type": "stream",
     "text": [
      "4\n"
     ]
    }
   ],
   "source": [
    "#Finding index.no of a specific member\n",
    "\n",
    "print(vegetables.index(\"Ginger\"))"
   ]
  },
  {
   "cell_type": "code",
   "execution_count": 104,
   "metadata": {},
   "outputs": [
    {
     "name": "stdout",
     "output_type": "stream",
     "text": [
      "(25, 50, 75, 100)\n"
     ]
    }
   ],
   "source": [
    "#Tuples can also be defined withut braces\n",
    "\n",
    "a = 25,50,75,100\n",
    "print(a)"
   ]
  },
  {
   "cell_type": "markdown",
   "metadata": {},
   "source": [
    "# PYHTON (AI) LESSON_1 COMPLETED"
   ]
  }
 ],
 "metadata": {
  "kernelspec": {
   "display_name": "Python 3",
   "language": "python",
   "name": "python3"
  },
  "language_info": {
   "codemirror_mode": {
    "name": "ipython",
    "version": 3
   },
   "file_extension": ".py",
   "mimetype": "text/x-python",
   "name": "python",
   "nbconvert_exporter": "python",
   "pygments_lexer": "ipython3",
   "version": "3.7.6"
  }
 },
 "nbformat": 4,
 "nbformat_minor": 4
}
