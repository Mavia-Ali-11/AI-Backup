{
 "cells": [
  {
   "cell_type": "markdown",
   "metadata": {},
   "source": [
    "# PYTHON IN PRACTICE"
   ]
  },
  {
   "cell_type": "markdown",
   "metadata": {},
   "source": [
    "Online Pyhton Content"
   ]
  },
  {
   "cell_type": "code",
   "execution_count": 1,
   "metadata": {},
   "outputs": [
    {
     "name": "stdout",
     "output_type": "stream",
     "text": [
      "Twinkle, twinkle, little star,\n",
      "\tHow I wonder what you are!\n",
      "\t\tUp above the world so high,\n",
      "\t\tLika a diamond in the sky.\n",
      "Twinkle, twinkle, little star,\n",
      "\tHow I wonder what you are!\n"
     ]
    }
   ],
   "source": [
    "#Use of escape character \"\\t\"\n",
    "\n",
    "print(\"Twinkle, twinkle, little star,\")\n",
    "print(\"\\tHow I wonder what you are!\")\n",
    "print(\"\\t\\tUp above the world so high,\")\n",
    "print(\"\\t\\tLika a diamond in the sky.\")\n",
    "print(\"Twinkle, twinkle, little star,\")\n",
    "print(\"\\tHow I wonder what you are!\")"
   ]
  },
  {
   "cell_type": "code",
   "execution_count": 2,
   "metadata": {},
   "outputs": [
    {
     "name": "stdout",
     "output_type": "stream",
     "text": [
      "3.7.6 (default, Jan  8 2020, 20:23:39) [MSC v.1916 64 bit (AMD64)]\n"
     ]
    }
   ],
   "source": [
    "#Getting version of system\n",
    "\n",
    "import sys\n",
    "print(sys.version)"
   ]
  },
  {
   "cell_type": "code",
   "execution_count": 6,
   "metadata": {},
   "outputs": [
    {
     "name": "stdout",
     "output_type": "stream",
     "text": [
      "2020-04-21 18:43:46.619499\n"
     ]
    }
   ],
   "source": [
    "#Getting current date time\n",
    "\n",
    "import datetime as d\n",
    "info = d.datetime.now()\n",
    "print(info)"
   ]
  },
  {
   "cell_type": "code",
   "execution_count": 10,
   "metadata": {},
   "outputs": [
    {
     "name": "stdout",
     "output_type": "stream",
     "text": [
      "Enter radius: 5\n",
      "78.55\n"
     ]
    }
   ],
   "source": [
    "#Area of Circle\n",
    "\n",
    "radius = float(input(\"Enter radius: \"))\n",
    "answer = 3.142 * radius * radius\n",
    "print(answer)"
   ]
  },
  {
   "cell_type": "code",
   "execution_count": 16,
   "metadata": {},
   "outputs": [
    {
     "name": "stdout",
     "output_type": "stream",
     "text": [
      "First name: Mavia\n",
      "Last name: Ali\n",
      "aivaM ilA\n"
     ]
    }
   ],
   "source": [
    "#Reverse String\n",
    "\n",
    "first_name = input(\"First name: \")\n",
    "last_name = input(\"Last name: \")\n",
    "rev1 = first_name[: :-1]\n",
    "rev2 = last_name[: :-1]\n",
    "print(rev1 + \" \" + rev2)"
   ]
  },
  {
   "cell_type": "markdown",
   "metadata": {},
   "source": [
    "### Calculator"
   ]
  },
  {
   "cell_type": "code",
   "execution_count": 40,
   "metadata": {},
   "outputs": [
    {
     "name": "stdout",
     "output_type": "stream",
     "text": [
      "Enter any number: 2\n",
      "Enter operator: **\n",
      "Enter another number: 6\n",
      "\n",
      "Ans: 64\n"
     ]
    }
   ],
   "source": [
    "num1 = int(input(\"Enter any number: \"))\n",
    "operator = input(\"Enter operator: \")\n",
    "num2 = int(input(\"Enter another number: \"))\n",
    "print()\n",
    "if operator == \"+\":\n",
    "    print(\"Ans:\",num1 + num2)\n",
    "elif operator == \"-\":\n",
    "    print(\"Ans:\",num1 - num2)\n",
    "elif operator == \"*\":\n",
    "    print(\"Ans:\",num1 * num2)\n",
    "elif operator == \"**\":\n",
    "    print(\"Ans:\",num1 ** num2)\n",
    "elif operator == \"/\":\n",
    "    print(\"Ans:\",num1 / num2)\n",
    "    print(\"Reaminder:\",num1 % num2)\n",
    "else:\n",
    "    print(\"Invalid Operator\")"
   ]
  },
  {
   "cell_type": "markdown",
   "metadata": {},
   "source": [
    "### Percentange Calculator"
   ]
  },
  {
   "cell_type": "code",
   "execution_count": 20,
   "metadata": {},
   "outputs": [
    {
     "name": "stdout",
     "output_type": "stream",
     "text": [
      "Marks of 1st subject: 60\n",
      "Marks of 2nd subject: 81.5\n",
      "Marks of 3rd subject: 88\n",
      "Marks of 4th subject: 72.5\n",
      "Marks of 5th subject: 78\n",
      "\n",
      "Percantage: 76.0\n",
      "Grade A\n"
     ]
    }
   ],
   "source": [
    "sub1 = float(input(\"Marks of 1st subject: \"))\n",
    "sub2 = float(input(\"Marks of 2nd subject: \"))\n",
    "sub3 = float(input(\"Marks of 3rd subject: \"))\n",
    "sub4 = float(input(\"Marks of 4th subject: \"))\n",
    "sub5 = float(input(\"Marks of 5th subject: \"))\n",
    "obtained = sub1 + sub2 + sub3 + sub4 + sub5\n",
    "total = 500\n",
    "perc = (obtained / total) * 100\n",
    "print(\"\\nPercantage:\",perc)\n",
    "\n",
    "if perc >= 80:\n",
    "    print(\"Grade A+\")\n",
    "elif perc < 80 and perc >= 70:\n",
    "    print(\"Grade A\")\n",
    "elif perc < 70 and perc >= 60:\n",
    "    print(\"Grade B\")\n",
    "elif perc < 60 and perc >= 50:\n",
    "    print(\"Grade B+\")\n",
    "elif perc < 50and perc >= 40:\n",
    "    print(\"Grade C\")\n",
    "else:\n",
    "    print(\"Fail\")"
   ]
  },
  {
   "cell_type": "code",
   "execution_count": 24,
   "metadata": {},
   "outputs": [
    {
     "name": "stdout",
     "output_type": "stream",
     "text": [
      "Enter any number: 100\n",
      "100 is EVEN\n"
     ]
    }
   ],
   "source": [
    "#Even and Odd Detector\n",
    "\n",
    "num = int(input(\"Enter any number: \"))\n",
    "if num % 2 == 0:\n",
    "    print(\"{} is EVEN\".format(num))\n",
    "else:\n",
    "    print(\"{} is ODD\".format(num))"
   ]
  },
  {
   "cell_type": "code",
   "execution_count": 26,
   "metadata": {},
   "outputs": [
    {
     "name": "stdout",
     "output_type": "stream",
     "text": [
      "Length of list is: 11\n"
     ]
    }
   ],
   "source": [
    "arr = [1, 1, 2, 3, 5, 8, 13, 21, 34, 55, 89]\n",
    "print(\"Length of list is:\",len(arr))"
   ]
  },
  {
   "cell_type": "code",
   "execution_count": 49,
   "metadata": {},
   "outputs": [
    {
     "name": "stdout",
     "output_type": "stream",
     "text": [
      "Sum of list is: 232\n"
     ]
    }
   ],
   "source": [
    "arr = [1, 1, 2, 3, 5, 8, 13, 21, 34, 55, 89]\n",
    "print(\"Sum of list is:\",sum(arr))"
   ]
  },
  {
   "cell_type": "code",
   "execution_count": 29,
   "metadata": {},
   "outputs": [
    {
     "name": "stdout",
     "output_type": "stream",
     "text": [
      "Largest number of list is: 89\n"
     ]
    }
   ],
   "source": [
    "arr = [1, 1, 2, 3, 5, 8, 13, 21, 34, 55, 89]\n",
    "print(\"Largest number of list is:\",max(arr))"
   ]
  },
  {
   "cell_type": "code",
   "execution_count": 37,
   "metadata": {},
   "outputs": [
    {
     "name": "stdout",
     "output_type": "stream",
     "text": [
      "1\n",
      "1\n",
      "2\n",
      "3\n",
      "5\n"
     ]
    }
   ],
   "source": [
    "#Finding numbers > 5 in list\n",
    "\n",
    "arr = [1, 1, 2, 3, 5, 8, 13, 21, 34, 55, 89]\n",
    "for a in arr:\n",
    "    if a <= 5:\n",
    "        print(a)"
   ]
  },
  {
   "cell_type": "code",
   "execution_count": 48,
   "metadata": {},
   "outputs": [
    {
     "name": "stdout",
     "output_type": "stream",
     "text": [
      "Numeric value found: 9\n",
      "Numeric value found: 11\n",
      "Numeric value found: 4.6\n"
     ]
    }
   ],
   "source": [
    "#Finding numeric values in list\n",
    "\n",
    "the_list = [9,\"Pakistan\",11,4.6,'M']\n",
    "for numerics in the_list:\n",
    "    if type(numerics) == int or type(numerics) == float:\n",
    "        print(\"Numeric value found:\",numerics)"
   ]
  },
  {
   "cell_type": "code",
   "execution_count": 51,
   "metadata": {},
   "outputs": [
    {
     "name": "stdout",
     "output_type": "stream",
     "text": [
      "{1: 'Pakistan', 2: 'Saudia Arabia', 3: 'Australia'}\n",
      "After adding a key\n",
      "{1: 'Pakistan', 2: 'Saudia Arabia', 3: 'Australia', 4: 'China'}\n"
     ]
    }
   ],
   "source": [
    "#Adding key in dictionary\n",
    "\n",
    "dictionary = {\n",
    "    1 : \"Pakistan\",\n",
    "    2 : \"Saudia Arabia\",\n",
    "    3 : \"Australia\",\n",
    "}\n",
    "print(dictionary)\n",
    "dictionary[4] = \"China\"\n",
    "print(\"After adding a key\")\n",
    "print(dictionary)"
   ]
  },
  {
   "cell_type": "code",
   "execution_count": 52,
   "metadata": {},
   "outputs": [
    {
     "name": "stdout",
     "output_type": "stream",
     "text": [
      "18.2\n"
     ]
    }
   ],
   "source": [
    "#Finding numeric values in dictionary\n",
    "\n",
    "dictionary = {\n",
    "    1 : \"Karachi\",\n",
    "    2 : 7,\n",
    "    3 : 'Ali',\n",
    "    4 : 11.2\n",
    "}\n",
    "ans = 0\n",
    "for numerics in dictionary.values():\n",
    "    if type(numerics) == int or type(numerics) == float:\n",
    "        ans += numerics\n",
    "print(ans)"
   ]
  },
  {
   "cell_type": "code",
   "execution_count": 55,
   "metadata": {},
   "outputs": [
    {
     "name": "stdout",
     "output_type": "stream",
     "text": [
      "Duplicate: ['Pakistan', 44, 31.1, 'Pakistan', 31.1, 44]\n"
     ]
    }
   ],
   "source": [
    "#Finding duplicate values in list\n",
    "\n",
    "list = [\"Pakistan\",44,31.1,'Pakistan',3,74,41,31.1,62,44]\n",
    "duplicate = []\n",
    "for dup in list:\n",
    "    if list.count(dup) > 1:\n",
    "        duplicate.append(dup)\n",
    "print(\"Duplicate:\",duplicate)"
   ]
  },
  {
   "cell_type": "code",
   "execution_count": 69,
   "metadata": {},
   "outputs": [
    {
     "name": "stdout",
     "output_type": "stream",
     "text": [
      "Enter key: 5\n",
      "\n",
      "Key Avaiable\n",
      "Give value: Mavia\n",
      "Dictionary: {1: 11, 2: 'Pakistan', 3: 21.2, 4: 'Hello', 5: 'Mavia'}\n"
     ]
    }
   ],
   "source": [
    "#Adding user input key/value in dictionary\n",
    "\n",
    "dictionary = {\n",
    "    1 : 11,\n",
    "    2 : \"Pakistan\",\n",
    "    3 : 21.2,\n",
    "    4 : \"Hello\"\n",
    "}\n",
    "user = int(input(\"Enter key: \"))\n",
    "for key in dictionary.keys():\n",
    "    if key == user:\n",
    "        print(\"Key {} already exist\".format(user))\n",
    "        break\n",
    "else:\n",
    "    print(\"\\nKey Avaiable\")\n",
    "    value = input(\"Give value: \")\n",
    "    dictionary[user] = value\n",
    "    print(\"Dictionary:\",dictionary)"
   ]
  },
  {
   "cell_type": "code",
   "execution_count": 70,
   "metadata": {},
   "outputs": [
    {
     "name": "stdout",
     "output_type": "stream",
     "text": [
      "{'COUNTRY': 'PAKISTAN', 'POPULATION': 15741000, 'FACT': 'It is also known as city of lights'}\n",
      "{'COUNTRY': 'INDIA', 'POPULATION': 20185064, 'FACT': 'It is the wealthiest city in India'}\n",
      "{'COUNTRY': 'TURKEY', 'POPULATION': 14968000, 'FACT': 'It is the only city that straddles two continents, ASIA AND EUROPE'}\n"
     ]
    }
   ],
   "source": [
    "#Dictionaries in Dictionary\n",
    "\n",
    "cities = {    \n",
    "    \"KARACHI\" : {\n",
    "                    \"COUNTRY\" : \"PAKISTAN\",\n",
    "                    \"POPULATION\" : 15741000,\n",
    "                    \"FACT\" : \"It is also known as city of lights\"\n",
    "                },\n",
    "    \"MUMBAI\" : {\n",
    "                    \"COUNTRY\" : \"INDIA\",\n",
    "                    \"POPULATION\" :  20185064,\n",
    "                    \"FACT\" : \"It is the wealthiest city in India\"\n",
    "                },\n",
    "    \"ISTANBUL\" : {\n",
    "                    \"COUNTRY\" : \"TURKEY\",\n",
    "                    \"POPULATION\" : 14968000,\n",
    "                    \"FACT\" : \"It is the only city that straddles two continents, ASIA AND EUROPE\"\n",
    "                 }\n",
    "        }\n",
    "print(cities[\"KARACHI\"])\n",
    "print(cities[\"MUMBAI\"])\n",
    "print(cities[\"ISTANBUL\"])"
   ]
  },
  {
   "cell_type": "code",
   "execution_count": 77,
   "metadata": {},
   "outputs": [
    {
     "name": "stdout",
     "output_type": "stream",
     "text": [
      "Favorite book: Alice in Wonderland\n"
     ]
    }
   ],
   "source": [
    "#Function\n",
    "\n",
    "def fav_book(title):\n",
    "    print(\"Favorite book:\",title)\n",
    "fav_book(\"Alice in Wonderland\")"
   ]
  },
  {
   "cell_type": "code",
   "execution_count": 95,
   "metadata": {},
   "outputs": [
    {
     "name": "stdout",
     "output_type": "stream",
     "text": [
      "Enter any +ive integer: 5\n",
      "Factorial of 5 is 120\n"
     ]
    }
   ],
   "source": [
    "#Factorial function\n",
    "\n",
    "user = int(input(\"Enter any +ive integer: \"))\n",
    "factorial = 1\n",
    "if user < 1:\n",
    "    print(\"Factorial of -ive numbers doesn't exist\")\n",
    "elif user == 0:\n",
    "    print(\"Factorial if 0 is 1\")\n",
    "else:\n",
    "    for num in range(1,user + 1):\n",
    "        factorial = factorial * num   \n",
    "    print(\"Factorial of {} is {}\".format(user,factorial))"
   ]
  },
  {
   "cell_type": "code",
   "execution_count": 99,
   "metadata": {},
   "outputs": [
    {
     "name": "stdout",
     "output_type": "stream",
     "text": [
      "Enter String: Pakistan ZINDABAD\n",
      "Number of Lower case Characters: 7\n",
      "Number of Upper case Characters: 9\n"
     ]
    }
   ],
   "source": [
    "#Finding Upper/Lower case in string\n",
    "\n",
    "user = input(\"Enter String: \")\n",
    "count1 = 0\n",
    "count2 =0\n",
    "for char in user:\n",
    "    if char.islower():\n",
    "        count1 = count1 + 1\n",
    "    elif char.isupper():\n",
    "        count2 = count2 + 1\n",
    "print(\"Number of Lower case Characters:\",count1)\n",
    "print(\"Number of Upper case Characters:\",count2)"
   ]
  },
  {
   "cell_type": "code",
   "execution_count": 113,
   "metadata": {},
   "outputs": [
    {
     "name": "stdout",
     "output_type": "stream",
     "text": [
      "Size of list: 5\n",
      "Num at '0' index: 6\n",
      "Num at '1' index: 11\n",
      "Num at '2' index: 25\n",
      "Num at '3' index: 34\n",
      "Num at '4' index: 46\n",
      "Your list: [6, 11, 25, 34, 46]\n",
      "Even numbers in your list: [6, 34, 46]\n"
     ]
    }
   ],
   "source": [
    "#Making user desired arrayand finding even no's in it\n",
    "\n",
    "user = int(input(\"Size of list: \"))\n",
    "arr = []\n",
    "even = []\n",
    "for index in range(0,user):\n",
    "    num = int(input(\"Num at '{}' index: \".format(index)))\n",
    "    arr.append(num)\n",
    "for elem in arr:\n",
    "    if elem % 2 == 0:\n",
    "        even.append(elem)\n",
    "print(\"Your list:\",arr)\n",
    "print(\"Even numbers in your list:\",even)"
   ]
  },
  {
   "cell_type": "code",
   "execution_count": 132,
   "metadata": {},
   "outputs": [
    {
     "name": "stdout",
     "output_type": "stream",
     "text": [
      "Enter String: civic\n",
      "String is Palindrome\n"
     ]
    }
   ],
   "source": [
    "#Palindrome finder\n",
    "\n",
    "user = input(\"Enter String: \")\n",
    "if user == user[: :-1]:\n",
    "    print(\"String is Palindrome\")\n",
    "else:\n",
    "    print(\"String is not Palindrome\")"
   ]
  },
  {
   "cell_type": "code",
   "execution_count": 141,
   "metadata": {},
   "outputs": [
    {
     "name": "stdout",
     "output_type": "stream",
     "text": [
      "*Items:\n",
      "\n",
      "\t Paratha\n",
      "\t French Fries\n",
      "\t Zingers\n",
      "\t Nuggets\n"
     ]
    }
   ],
   "source": [
    "def Shopping(*items):\n",
    "    print(\"*Items:\\n\")\n",
    "    for i in items:\n",
    "        print(\"\\t\",i)\n",
    "Shopping(\"Paratha\",\"French Fries\",\"Zingers\",\"Nuggets\")"
   ]
  }
 ],
 "metadata": {
  "kernelspec": {
   "display_name": "Python 3",
   "language": "python",
   "name": "python3"
  },
  "language_info": {
   "codemirror_mode": {
    "name": "ipython",
    "version": 3
   },
   "file_extension": ".py",
   "mimetype": "text/x-python",
   "name": "python",
   "nbconvert_exporter": "python",
   "pygments_lexer": "ipython3",
   "version": "3.7.6"
  }
 },
 "nbformat": 4,
 "nbformat_minor": 4
}
