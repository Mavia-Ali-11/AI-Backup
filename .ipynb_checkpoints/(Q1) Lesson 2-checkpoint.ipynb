{
 "cells": [
  {
   "cell_type": "markdown",
   "metadata": {},
   "source": [
    "### For Loop"
   ]
  },
  {
   "cell_type": "code",
   "execution_count": 2,
   "metadata": {},
   "outputs": [
    {
     "name": "stdout",
     "output_type": "stream",
     "text": [
      "0 Mavia\n",
      "1 Mavia\n",
      "2 Mavia\n",
      "3 Mavia\n",
      "4 Mavia\n"
     ]
    }
   ],
   "source": [
    "#Range of loop\n",
    "\n",
    "for a in range(5):\n",
    "    print(a,\"Mavia\")        # 5 is exluded(0,1,2,3,4)"
   ]
  },
  {
   "cell_type": "code",
   "execution_count": 10,
   "metadata": {},
   "outputs": [
    {
     "name": "stdout",
     "output_type": "stream",
     "text": [
      "0\n",
      "1\n",
      "2\n",
      "3\n",
      "4\n",
      "5\n",
      "6\n",
      "7\n",
      "8\n",
      "9\n"
     ]
    }
   ],
   "source": [
    "#Range of loop (2)\n",
    "\n",
    "for number in range(10):\n",
    "    print(number)"
   ]
  },
  {
   "cell_type": "code",
   "execution_count": 5,
   "metadata": {},
   "outputs": [
    {
     "name": "stdout",
     "output_type": "stream",
     "text": [
      "1\n",
      "2\n",
      "3\n",
      "4\n",
      "5\n",
      "6\n",
      "7\n",
      "8\n",
      "9\n",
      "10\n"
     ]
    }
   ],
   "source": [
    "#Range of loop with starting and ending point\n",
    "\n",
    "for number in range(1,11):\n",
    "    print(number)"
   ]
  },
  {
   "cell_type": "code",
   "execution_count": 27,
   "metadata": {},
   "outputs": [
    {
     "name": "stdout",
     "output_type": "stream",
     "text": [
      "1\n",
      "4\n",
      "7\n",
      "10\n"
     ]
    }
   ],
   "source": [
    "#Range of loop with steps\n",
    "\n",
    "for number in range(1,11,3):\n",
    "    print(number)"
   ]
  },
  {
   "cell_type": "code",
   "execution_count": 30,
   "metadata": {},
   "outputs": [
    {
     "name": "stdout",
     "output_type": "stream",
     "text": [
      "10\n",
      "8\n",
      "6\n",
      "4\n",
      "2\n"
     ]
    }
   ],
   "source": [
    "#Range of loop with -ive steps\n",
    "\n",
    "for number in range(10,1,-2):\n",
    "    print(number)"
   ]
  },
  {
   "cell_type": "code",
   "execution_count": 15,
   "metadata": {},
   "outputs": [
    {
     "name": "stdout",
     "output_type": "stream",
     "text": [
      "Mavia\n",
      "Aniq\n",
      "Shaheryar\n",
      "Salman\n",
      "Ziyad\n"
     ]
    }
   ],
   "source": [
    "#For loop on array\n",
    "\n",
    "fab5 = [\"Mavia\",\"Aniq\",\"Shaheryar\",\"Salman\",\"Ziyad\"]\n",
    "for friends in fab5:\n",
    "    print(friends)"
   ]
  },
  {
   "cell_type": "code",
   "execution_count": 16,
   "metadata": {},
   "outputs": [
    {
     "name": "stdout",
     "output_type": "stream",
     "text": [
      "11\n",
      "22\n",
      "33\n",
      "44\n",
      "55\n"
     ]
    }
   ],
   "source": [
    "#For loop on array\n",
    "\n",
    "for nums in [11,22,33,44,55]:\n",
    "    print(nums)"
   ]
  },
  {
   "cell_type": "code",
   "execution_count": 33,
   "metadata": {},
   "outputs": [
    {
     "name": "stdout",
     "output_type": "stream",
     "text": [
      "Pakistan\n",
      "Sounth Africa\n",
      "Saudia Arabia\n"
     ]
    }
   ],
   "source": [
    "#For loop on tuple\n",
    "\n",
    "countries = \"Pakistan\",\"Sounth Africa\",\"Saudia Arabia\"\n",
    "for country in countries:\n",
    "    print(country)"
   ]
  },
  {
   "cell_type": "code",
   "execution_count": 31,
   "metadata": {},
   "outputs": [
    {
     "name": "stdout",
     "output_type": "stream",
     "text": [
      "M\n",
      "a\n",
      "v\n",
      "i\n",
      "a\n"
     ]
    }
   ],
   "source": [
    "#For loop on string\n",
    "\n",
    "name = \"Mavia\"\n",
    "for char in name:\n",
    "    print(char)"
   ]
  },
  {
   "cell_type": "code",
   "execution_count": 15,
   "metadata": {},
   "outputs": [
    {
     "name": "stdout",
     "output_type": "stream",
     "text": [
      "5\n",
      "7\n",
      "9\n"
     ]
    }
   ],
   "source": [
    "#Breaking the loop using 'break' keyword\n",
    "\n",
    "for num in [5,7,9,10,11,16]:\n",
    "    if num % 2 == 0:\n",
    "        break\n",
    "    print(num)"
   ]
  },
  {
   "cell_type": "code",
   "execution_count": 55,
   "metadata": {},
   "outputs": [
    {
     "name": "stdout",
     "output_type": "stream",
     "text": [
      "0\n",
      "1\n",
      "2\n",
      "4\n",
      "5\n"
     ]
    }
   ],
   "source": [
    "#Skipping the specific step of a loop by using 'continue' keyword\n",
    "\n",
    "for num in range(6):\n",
    "    if num == 3:\n",
    "        continue\n",
    "    print(num)"
   ]
  },
  {
   "cell_type": "code",
   "execution_count": 61,
   "metadata": {},
   "outputs": [
    {
     "name": "stdout",
     "output_type": "stream",
     "text": [
      "5\n",
      "6\n",
      "7\n",
      "8\n",
      "9\n"
     ]
    }
   ],
   "source": [
    "#'Continue' keyword (2)\n",
    "\n",
    "for num in range(10):\n",
    "    if num < 5:\n",
    "        continue\n",
    "    print(num)"
   ]
  },
  {
   "cell_type": "markdown",
   "metadata": {},
   "source": [
    "### Nested For Loop"
   ]
  },
  {
   "cell_type": "code",
   "execution_count": 21,
   "metadata": {},
   "outputs": [
    {
     "name": "stdout",
     "output_type": "stream",
     "text": [
      "Pakistan Zindabad\n",
      "0 M\n",
      "0 V\n",
      "Pakistan Zindabad\n",
      "1 M\n",
      "1 V\n",
      "Pakistan Zindabad\n",
      "2 M\n",
      "2 V\n"
     ]
    }
   ],
   "source": [
    "#Nested for loop\n",
    "\n",
    "for num in range(3):\n",
    "    print(\"Pakistan Zindabad\")\n",
    "    for char in \"MV\":\n",
    "        print(num,char)"
   ]
  },
  {
   "cell_type": "code",
   "execution_count": 88,
   "metadata": {},
   "outputs": [
    {
     "name": "stdout",
     "output_type": "stream",
     "text": [
      "NaOH\n",
      "NaCl\n",
      "HOH\n",
      "HCl\n"
     ]
    }
   ],
   "source": [
    "#Nested for loop (2)\n",
    "\n",
    "elem1 = [\"Na\",\"H\"]\n",
    "elem2 = [\"OH\",\"Cl\"]\n",
    "for name1 in elem1:\n",
    "    for name2 in elem2:\n",
    "        print(name1 + name2)"
   ]
  },
  {
   "cell_type": "markdown",
   "metadata": {},
   "source": [
    "### TABLES using ( For & Nested For Loop )"
   ]
  },
  {
   "cell_type": "code",
   "execution_count": 160,
   "metadata": {},
   "outputs": [
    {
     "name": "stdout",
     "output_type": "stream",
     "text": [
      "Enter table number: 5\n",
      "5 * 1 = 5\n",
      "5 * 2 = 10\n",
      "5 * 3 = 15\n",
      "5 * 4 = 20\n",
      "5 * 5 = 25\n",
      "5 * 6 = 30\n",
      "5 * 7 = 35\n",
      "5 * 8 = 40\n",
      "5 * 9 = 45\n",
      "5 * 10 = 50\n"
     ]
    }
   ],
   "source": [
    "#Generating tables using 'for' loop\n",
    "\n",
    "user = int(input(\"Enter table number: \"))\n",
    "for num in range(1,11):\n",
    "    print(user,\"*\",num,\"=\",user * num)"
   ]
  },
  {
   "cell_type": "code",
   "execution_count": 33,
   "metadata": {},
   "outputs": [
    {
     "name": "stdout",
     "output_type": "stream",
     "text": [
      "Table of: 17\n",
      "For times: 5\n",
      "\n",
      "17 * 1 = 17\n",
      "17 * 2 = 34\n",
      "17 * 3 = 51\n",
      "17 * 4 = 68\n",
      "17 * 5 = 85\n"
     ]
    }
   ],
   "source": [
    "#Generating tables for user desired times using 'for' loop\n",
    "\n",
    "table = int(input(\"Table of: \"))\n",
    "times = int(input(\"For times: \"))\n",
    "print()\n",
    "for num in range(1,times+1):\n",
    "    print(table,\"*\",num,\"=\",table*num)"
   ]
  },
  {
   "cell_type": "code",
   "execution_count": 37,
   "metadata": {},
   "outputs": [
    {
     "name": "stdout",
     "output_type": "stream",
     "text": [
      "How many tables: 2\n",
      "1 * 1 = 1\n",
      "1 * 2 = 2\n",
      "1 * 3 = 3\n",
      "1 * 4 = 4\n",
      "1 * 5 = 5\n",
      "1 * 6 = 6\n",
      "1 * 7 = 7\n",
      "1 * 8 = 8\n",
      "1 * 9 = 9\n",
      "1 * 10 = 10\n",
      "\n",
      "2 * 1 = 2\n",
      "2 * 2 = 4\n",
      "2 * 3 = 6\n",
      "2 * 4 = 8\n",
      "2 * 5 = 10\n",
      "2 * 6 = 12\n",
      "2 * 7 = 14\n",
      "2 * 8 = 16\n",
      "2 * 9 = 18\n",
      "2 * 10 = 20\n",
      "\n"
     ]
    }
   ],
   "source": [
    "#Generating all tables according to user requirements using 'nested for' loop\n",
    "\n",
    "user = int(input(\"How many tables: \"))\n",
    "for num in range(1,user+1):\n",
    "    for num1 in range(1,11):\n",
    "        print(num,\"*\",num1,\"=\",num*num1)\n",
    "    print()"
   ]
  },
  {
   "cell_type": "markdown",
   "metadata": {},
   "source": [
    "### Changing Case"
   ]
  },
  {
   "cell_type": "code",
   "execution_count": 216,
   "metadata": {},
   "outputs": [
    {
     "name": "stdout",
     "output_type": "stream",
     "text": [
      "MAVIA\n"
     ]
    }
   ],
   "source": [
    "#Lowercase to Uppercase\n",
    "\n",
    "name = \"mavia\"\n",
    "case = name.upper()\n",
    "print(case)"
   ]
  },
  {
   "cell_type": "code",
   "execution_count": 218,
   "metadata": {},
   "outputs": [
    {
     "name": "stdout",
     "output_type": "stream",
     "text": [
      "mavia\n"
     ]
    }
   ],
   "source": [
    "#Uppercase to Lowercase\n",
    "\n",
    "name = \"MAVIA\"\n",
    "case = name.lower()\n",
    "print(case)"
   ]
  },
  {
   "cell_type": "code",
   "execution_count": 223,
   "metadata": {},
   "outputs": [
    {
     "name": "stdout",
     "output_type": "stream",
     "text": [
      "My Name Is Mavia\n"
     ]
    }
   ],
   "source": [
    "#Uppercasing 1st character of every word in a sentence\n",
    "\n",
    "name = \"MY NAME IS MAVIA\"\n",
    "case = name.title()\n",
    "print(case)"
   ]
  },
  {
   "cell_type": "markdown",
   "metadata": {},
   "source": [
    "### Dictionaries"
   ]
  },
  {
   "cell_type": "code",
   "execution_count": 24,
   "metadata": {},
   "outputs": [
    {
     "name": "stdout",
     "output_type": "stream",
     "text": [
      "{'name': 'Mavia Ali', 'father_name': 'Mohammad Ali', 'age': 19, 'gender': 'Male'}\n",
      "4\n"
     ]
    }
   ],
   "source": [
    "dict = {\n",
    "    \"name\":\"Mavia Ali\",\n",
    "    \"father_name\":\"Mohammad Ali\",\n",
    "    \"age\":19,\n",
    "    \"gender\":\"Male\"\n",
    "}\n",
    "print(dict)\n",
    "print(len(dict))                #Length of dictionary"
   ]
  },
  {
   "cell_type": "code",
   "execution_count": 50,
   "metadata": {},
   "outputs": [
    {
     "name": "stdout",
     "output_type": "stream",
     "text": [
      "Mavia Ali\n",
      "VP\n",
      "dict_keys(['name', 'department', 'batch', 'semester', 'section', 'courses', 'email'])\n",
      "dict_values(['Mavia Ali', 'BSCS', 17, 3, 'B', ['DBMS', 'COA', 'VP', 'DS & ALGO', 'DE', 'URDU'], 'maviaali597@gmail.com'])\n"
     ]
    },
    {
     "data": {
      "text/plain": [
       "{'name': 'Mavia Ali',\n",
       " 'department': 'BSCS',\n",
       " 'batch': 17,\n",
       " 'semester': 3,\n",
       " 'section': 'B',\n",
       " 'courses': ['DBMS', 'COA', 'VP', 'DS & ALGO', 'DE', 'URDU'],\n",
       " 'email': 'maviaali597@gmail.com'}"
      ]
     },
     "execution_count": 50,
     "metadata": {},
     "output_type": "execute_result"
    }
   ],
   "source": [
    "#Adding new key in existing dictionary and other more functions\n",
    "\n",
    "student = {\n",
    "    \"name\":\"Mavia Ali\",\n",
    "    \"department\":\"BSCS\",\n",
    "    \"batch\":17,\n",
    "    \"semester\":3,\n",
    "    \"section\":\"B\",\n",
    "    \"courses\":[\"DBMS\",\"COA\",\"VP\",\"DS & ALGO\",\"DE\",\"URDU\"]       #Giving 'list' as a value\n",
    "}\n",
    "\n",
    "print(student[\"name\"])                                 #Accessing specific value of dictionary\n",
    "print(student[\"courses\"][2])                           #Accessing specific element from list\n",
    "\n",
    "student[\"email\"] = \"maviaali597@gmail.com\"             #Adding new key & value in existing dictionary\n",
    "print(student.keys())                                  #Accessing only keys of dictionary\n",
    "print(student.values())                                #Accessing only values of dictionary\n",
    "student"
   ]
  },
  {
   "cell_type": "code",
   "execution_count": 42,
   "metadata": {},
   "outputs": [
    {
     "name": "stdout",
     "output_type": "stream",
     "text": [
      "Previous: {1: 'Monday', 2: 'Tuesday', 3: 'Saturday', 4: 'Thursday', 5: 'Friday', 6: 'Saturday', 7: 'Sunday'} \n",
      "\n",
      "Updated: {1: 'Monday', 2: 'Tuesday', 3: 'Wednesday', 4: 'Thursday', 5: 'Friday', 6: 'Saturday', 7: 'Sunday'}\n"
     ]
    }
   ],
   "source": [
    "#Changing value of specific key in dictionary\n",
    "\n",
    "week = {\n",
    "    1:\"Monday\",\n",
    "    2:\"Tuesday\",\n",
    "    3:\"Saturday\",\n",
    "    4:\"Thursday\",\n",
    "    5:\"Friday\",\n",
    "    6:\"Saturday\",\n",
    "    7:\"Sunday\"\n",
    "}\n",
    "print(\"Previous:\",week,\"\\n\")\n",
    "week[3] = \"Wednesday\"\n",
    "print(\"Updated:\",week)"
   ]
  },
  {
   "cell_type": "code",
   "execution_count": 49,
   "metadata": {},
   "outputs": [
    {
     "name": "stdout",
     "output_type": "stream",
     "text": [
      "{1: 100, 2: 200, 3: 300, 4: 400, 5: 500}\n"
     ]
    }
   ],
   "source": [
    "#Deleting specific key of dictionary\n",
    "\n",
    "numbers = {\n",
    "    1:100,\n",
    "    2:200,\n",
    "    3:300,\n",
    "    4:400,\n",
    "    5:500,\n",
    "    6:600\n",
    "}\n",
    "del numbers[6]\n",
    "print(numbers)"
   ]
  },
  {
   "cell_type": "code",
   "execution_count": 53,
   "metadata": {},
   "outputs": [
    {
     "name": "stdout",
     "output_type": "stream",
     "text": [
      "True\n",
      "False\n"
     ]
    }
   ],
   "source": [
    "#Finding key in dictionary\n",
    "\n",
    "print(3 in numbers)\n",
    "print(6 in numbers)             #Key '6' is deleted previously"
   ]
  },
  {
   "cell_type": "markdown",
   "metadata": {},
   "source": [
    "### For Loop on Dictionaries"
   ]
  },
  {
   "cell_type": "code",
   "execution_count": 73,
   "metadata": {},
   "outputs": [
    {
     "name": "stdout",
     "output_type": "stream",
     "text": [
      "name\n",
      "depart\n",
      "batch\n",
      "semester\n",
      "section\n",
      "courses\n"
     ]
    }
   ],
   "source": [
    "#Accessing keys of dictionary using 'for' loop\n",
    "\n",
    "student = {\n",
    "    \"name\":\"Mavia Ali\",\n",
    "    \"depart\":\"BSCS\",\n",
    "    \"batch\":17,\n",
    "    \"semester\":3,\n",
    "    \"section\":\"B\",\n",
    "    \"courses\":[\"DBMS\",\"COA\",\"VP\",\"DS & ALGO\",\"DE\",\"URDU\"]\n",
    "}\n",
    "\n",
    "for keys in student.keys():\n",
    "    print(keys)  "
   ]
  },
  {
   "cell_type": "code",
   "execution_count": 74,
   "metadata": {},
   "outputs": [
    {
     "name": "stdout",
     "output_type": "stream",
     "text": [
      "Mavia Ali\n",
      "BSCS\n",
      "17\n",
      "3\n",
      "B\n",
      "['DBMS', 'COA', 'VP', 'DS & ALGO', 'DE', 'URDU']\n"
     ]
    }
   ],
   "source": [
    "#Accessing values of dictionary using 'for' loop\n",
    "\n",
    "for values in student.values():\n",
    "    print(values)  "
   ]
  },
  {
   "cell_type": "code",
   "execution_count": 75,
   "metadata": {},
   "outputs": [
    {
     "name": "stdout",
     "output_type": "stream",
     "text": [
      "name : Mavia Ali\n",
      "depart : BSCS\n",
      "batch : 17\n",
      "semester : 3\n",
      "section : B\n",
      "courses : ['DBMS', 'COA', 'VP', 'DS & ALGO', 'DE', 'URDU']\n"
     ]
    }
   ],
   "source": [
    "#Accessing both keys & values of dictionary using 'for' loop\n",
    "\n",
    "for keys,values in student.items():\n",
    "    print(keys,\":\",values)  "
   ]
  },
  {
   "cell_type": "code",
   "execution_count": 76,
   "metadata": {},
   "outputs": [
    {
     "name": "stdout",
     "output_type": "stream",
     "text": [
      "{'name': 'Mustafa', 'age': 7}\n",
      "10\n"
     ]
    },
    {
     "data": {
      "text/plain": [
       "{1: {'name': 'Mavia', 'age': 19},\n",
       " 2: {'name': 'Omama', 'age': 14},\n",
       " 3: {'name': 'Muntaha', 'age': 10},\n",
       " 4: {'name': 'Mustafa', 'age': 7}}"
      ]
     },
     "execution_count": 76,
     "metadata": {},
     "output_type": "execute_result"
    }
   ],
   "source": [
    "#Dictionary of Dictionaries\n",
    "\n",
    "siblings = {\n",
    "    1:{\n",
    "        \"name\":\"Mavia\",\n",
    "        \"age\":19\n",
    "    },\n",
    "    2:{\n",
    "        \"name\":\"Omama\",\n",
    "        \"age\":14\n",
    "    },\n",
    "    3:{\n",
    "        \"name\":\"Muntaha\",\n",
    "        \"age\":10\n",
    "    },\n",
    "    4:{\n",
    "        \"name\":\"Mustafa\",\n",
    "        \"age\":7\n",
    "    }\n",
    "}\n",
    "print(siblings[4])              #Accessing specific sub-dictionary from whole dictionary\n",
    "print(siblings[3][\"age\"])       #Accessing specific key from specific sub-dictionary\n",
    "siblings"
   ]
  },
  {
   "cell_type": "code",
   "execution_count": 53,
   "metadata": {},
   "outputs": [
    {
     "name": "stdout",
     "output_type": "stream",
     "text": [
      "{'name': 'Autralia', 'capital': 'Canberra'}\n",
      "Riyadh\n"
     ]
    },
    {
     "data": {
      "text/plain": [
       "[{'name': 'Pakistan', 'capital': 'Islamabad'},\n",
       " {'name': 'Saudia Arabia', 'capital': 'Riyadh'},\n",
       " {'name': 'Autralia', 'capital': 'Canberra'},\n",
       " {'name': 'India', 'capital': 'Delhi'}]"
      ]
     },
     "execution_count": 53,
     "metadata": {},
     "output_type": "execute_result"
    }
   ],
   "source": [
    "#List of Dictionaries\n",
    "\n",
    "countries = [\n",
    "    {\n",
    "       \"name\":\"Pakistan\",\n",
    "        \"capital\":\"Islamabad\"\n",
    "    },\n",
    "    {\n",
    "        \"name\":\"Saudia Arabia\",\n",
    "        \"capital\":\"Riyadh\"\n",
    "    },\n",
    "    {\n",
    "        \"name\":\"Autralia\",\n",
    "        \"capital\":\"Canberra\"\n",
    "    },\n",
    "    {\n",
    "        \"name\":\"India\",\n",
    "        \"capital\":\"Delhi\"\n",
    "    }\n",
    "]\n",
    "print(countries[2])                 #Accessing specific dictionary from list using index.num\n",
    "print(countries[1][\"capital\"])      #Accessing specific key from specific dictionary in the list\n",
    "countries"
   ]
  },
  {
   "cell_type": "code",
   "execution_count": 54,
   "metadata": {},
   "outputs": [
    {
     "data": {
      "text/plain": [
       "[{'name': 'Pakistan', 'capital': 'Islamabad'},\n",
       " {'name': 'Saudia Arabia', 'capital': 'Riyadh'},\n",
       " {'name': 'Autralia', 'capital': 'Canberra'},\n",
       " {'name': 'India', 'capital': 'Delhi'},\n",
       " {'name': 'America', 'capital': 'Washington'}]"
      ]
     },
     "execution_count": 54,
     "metadata": {},
     "output_type": "execute_result"
    }
   ],
   "source": [
    "#Adding/Appending dictionary in list of dictionaries\n",
    "\n",
    "add = {\n",
    "    \"name\":\"America\",\n",
    "    \"capital\":\"Washington\"\n",
    "}\n",
    "countries.append(add)\n",
    "countries"
   ]
  },
  {
   "cell_type": "code",
   "execution_count": 55,
   "metadata": {},
   "outputs": [
    {
     "data": {
      "text/plain": [
       "[{'name': 'Pakistan', 'capital': 'Islamabad'},\n",
       " {'name': 'Saudia Arabia', 'capital': 'Riyadh'},\n",
       " {'name': 'Autralia', 'capital': 'Canberra'},\n",
       " {'name': 'America', 'capital': 'Washington'}]"
      ]
     },
     "execution_count": 55,
     "metadata": {},
     "output_type": "execute_result"
    }
   ],
   "source": [
    "#Deleting dictionary from list of dictionaries\n",
    "\n",
    "del countries[3]\n",
    "countries"
   ]
  },
  {
   "cell_type": "markdown",
   "metadata": {},
   "source": [
    "Like ( append and del ) all list functions can be applied here from 'lesson 1' "
   ]
  },
  {
   "cell_type": "markdown",
   "metadata": {},
   "source": [
    "# PYTHON (AI) LESSON_2 COMPLETED"
   ]
  },
  {
   "cell_type": "markdown",
   "metadata": {},
   "source": [
    "### Calculator"
   ]
  },
  {
   "cell_type": "code",
   "execution_count": 117,
   "metadata": {},
   "outputs": [
    {
     "name": "stdout",
     "output_type": "stream",
     "text": [
      "Enter any number: 3\n",
      "Enter operator: +\n",
      "Enter another number: 2\n",
      "\n",
      "Ans: 5\n"
     ]
    }
   ],
   "source": [
    "num1 = int(input(\"Enter any number: \"))\n",
    "operator = input(\"Enter operator: \")\n",
    "num2 = int(input(\"Enter another number: \"))\n",
    "print()\n",
    "if operator == \"+\":\n",
    "    print(\"Ans:\",num1 + num2)\n",
    "elif operator == \"-\":\n",
    "    print(\"Ans:\",num1 - num2)\n",
    "elif operator == \"*\":\n",
    "    print(\"Ans:\",num1 * num2)\n",
    "elif operator == \"/\":\n",
    "    print(\"Ans:\",num1 / num2)\n",
    "    print(\"Reaminder:\",num1 % num2)\n",
    "else:\n",
    "    print(\"Invalid Operator\")"
   ]
  },
  {
   "cell_type": "markdown",
   "metadata": {},
   "source": [
    "### Quiz Application "
   ]
  },
  {
   "cell_type": "code",
   "execution_count": 1,
   "metadata": {},
   "outputs": [
    {
     "name": "stdout",
     "output_type": "stream",
     "text": [
      "\n",
      "Q1: What is the capital of Pakistan ?\n",
      "\n",
      "a) Karachi\n",
      "b) Lahore\n",
      "c) Islamabad\n",
      "d) Faislabad\n",
      "\n",
      "Your answer: Islamabad\n",
      "___________________________________________________________\n",
      "\n",
      "Q2: How many provinces are there in Pakistan ?\n",
      "\n",
      "a) 3\n",
      "b) 4\n",
      "c) 5\n",
      "d) 6\n",
      "\n",
      "Your answer: 4\n",
      "___________________________________________________________\n",
      "\n",
      "Q3: Which is the largest city of Pakistan by area ?\n",
      "\n",
      "a) Karachi\n",
      "b) Lahore\n",
      "c) Islamabad\n",
      "d) Faislabad\n",
      "\n",
      "Your answer: Karachi\n",
      "___________________________________________________________\n",
      "\n",
      "Q4: Which is the largest province of Pakistan by area ?\n",
      "\n",
      "a) Sindh\n",
      "b) Punjab\n",
      "c) Balochistan\n",
      "d) KPK\n",
      "\n",
      "Your answer: Punjab\n",
      "___________________________________________________________\n",
      "\n",
      "Q5: What is the name of 2nd most beautiful capital in the world ?\n",
      "\n",
      "a) London\n",
      "b) Berlin\n",
      "c) Ottawa\n",
      "d) Islamabad\n",
      "\n",
      "Your answer: Islamabad\n",
      "___________________________________________________________\n",
      "\n",
      "Total Marks:  5\n",
      "Your Marks:  4\n",
      "Your Percentage:  80.0 %"
     ]
    }
   ],
   "source": [
    "quiz = [\n",
    "    {\n",
    "        \"Qno\":\"Q1: \",\n",
    "        \"Q\":\"What is the capital of Pakistan ?\",\n",
    "        \"options\":[\"Karachi\",\"Lahore\",\"Islamabad\",\"Faislabad\"],\n",
    "        \"answer\":\"Islamabad\"\n",
    "    },\n",
    "    {\n",
    "        \"Qno\":\"Q2: \",\n",
    "        \"Q\":\"How many provinces are there in Pakistan ?\",\n",
    "        \"options\":[\"3\",\"4\",\"5\",\"6\"],\n",
    "        \"answer\":\"4\"\n",
    "    },\n",
    "    {\n",
    "        \"Qno\":\"Q3: \",\n",
    "        \"Q\":\"Which is the largest city of Pakistan by area ?\",\n",
    "        \"options\":[\"Karachi\",\"Lahore\",\"Islamabad\",\"Faislabad\"],\n",
    "        \"answer\":\"Karachi\"\n",
    "    },\n",
    "\n",
    "     {\n",
    "        \"Qno\":\"Q4: \",\n",
    "        \"Q\":\"Which is the largest province of Pakistan by area ?\",\n",
    "        \"options\":[\"Sindh\",\"Punjab\",\"Balochistan\",\"KPK\"],\n",
    "        \"answer\":\"Balochistan\"\n",
    "    },\n",
    "    {\n",
    "        \"Qno\":\"Q5: \",\n",
    "        \"Q\":\"What is the name of 2nd most beautiful capital in the world ?\",\n",
    "        \"options\":[\"London\",\"Berlin\",\"Ottawa\",\"Islamabad\"],\n",
    "        \"answer\":\"Islamabad\"\n",
    "    }    \n",
    "]\n",
    "\n",
    "marks = 0\n",
    "total_marks = 5\n",
    "\n",
    "for ques in quiz:\n",
    "    print(\"\\n\" + ques[\"Qno\"] + ques[\"Q\"] + \"\\n\\na) \" + ques[\"options\"][0] + \"\\nb) \" + ques[\"options\"][1]+ \"\\nc) \" + ques[\"options\"][2]+ \"\\nd) \" + ques[\"options\"][3] + \"\\n\")\n",
    "    ans = input(\"Your answer: \")\n",
    "    print(\"___________________________________________________________\")\n",
    "    if ans == ques[\"answer\"]:\n",
    "        marks += 1\n",
    "\n",
    "print(\"\\nTotal Marks: \",total_marks)\n",
    "print(\"Your Marks: \",marks)\n",
    "percentage = (marks / total_marks) * 100\n",
    "print(\"Your Percentage: \",percentage,end = \" %\")"
   ]
  }
 ],
 "metadata": {
  "kernelspec": {
   "display_name": "Python 3",
   "language": "python",
   "name": "python3"
  },
  "language_info": {
   "codemirror_mode": {
    "name": "ipython",
    "version": 3
   },
   "file_extension": ".py",
   "mimetype": "text/x-python",
   "name": "python",
   "nbconvert_exporter": "python",
   "pygments_lexer": "ipython3",
   "version": "3.7.6"
  }
 },
 "nbformat": 4,
 "nbformat_minor": 4
}
